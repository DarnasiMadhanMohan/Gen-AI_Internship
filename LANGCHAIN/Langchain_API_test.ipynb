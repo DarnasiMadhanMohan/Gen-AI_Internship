{
 "cells": [
  {
   "cell_type": "markdown",
   "metadata": {},
   "source": [
    "# Set Key Environment"
   ]
  },
  {
   "cell_type": "markdown",
   "id": "19912795",
   "metadata": {},
   "source": [
    "# Setting Environment Variables\n",
    "This section sets up the OpenAI API key in the environment variables."
   ]
  },
  {
   "cell_type": "code",
   "execution_count": 23,
   "metadata": {},
   "outputs": [],
   "source": [
    "import os\n",
    "#os.environ[\"OPENAI_API_KEY\"]=\"\"\n",
    "os.environ[\"OPENAI_API_KEY\"]=\"\""
   ]
  },
  {
   "cell_type": "markdown",
   "id": "00de404d",
   "metadata": {},
   "source": [
    "## Importing OpenAI Library\n",
    "We import the LangChain library to use OpenAI's language model APIs."
   ]
  },
  {
   "cell_type": "code",
   "execution_count": 25,
   "metadata": {},
   "outputs": [],
   "source": [
    "from langchain.llms import OpenAI"
   ]
  },
  {
   "cell_type": "markdown",
   "id": "1e5e8237",
   "metadata": {},
   "source": [
    "## Initializing OpenAI Model\n",
    "Here, we create an instance of the OpenAI model using LangChain."
   ]
  },
  {
   "cell_type": "code",
   "execution_count": 26,
   "metadata": {},
   "outputs": [],
   "source": [
    "model = OpenAI()"
   ]
  },
  {
   "cell_type": "markdown",
   "id": "a817e6ed",
   "metadata": {},
   "source": [
    "## Example API Call 1\n",
    "This cell demonstrates how to invoke the OpenAI API with a specific query.\n",
    "**Query Description**: \"provide me details about new first law in two sentences\""
   ]
  },
  {
   "cell_type": "code",
   "execution_count": 27,
   "metadata": {},
   "outputs": [
    {
     "data": {
      "text/plain": [
       "'\\n\\nThe new first law, also known as the conservation of energy, states that energy cannot be created or destroyed, but can only be transferred or converted from one form to another. This law is a fundamental principle in physics and applies to all systems, including living organisms and the entire universe.'"
      ]
     },
     "execution_count": 27,
     "metadata": {},
     "output_type": "execute_result"
    }
   ],
   "source": [
    "model.invoke(\"provide me details about new first law in two sentences\")"
   ]
  },
  {
   "cell_type": "markdown",
   "id": "1a28ee24",
   "metadata": {},
   "source": [
    "## Example API Call 2\n",
    "This cell demonstrates how to invoke the OpenAI API with a specific query.\n",
    "**Query Description**: \"provide me the details about laws of physics\""
   ]
  },
  {
   "cell_type": "code",
   "execution_count": 37,
   "metadata": {},
   "outputs": [
    {
     "data": {
      "text/plain": [
       "\"\\n\\nThe laws of physics are fundamental principles that govern the behavior of matter, energy, space, and time. They have been derived through extensive scientific research, experimentation, and observation and are considered to be the cornerstone of modern science. These laws help us understand the natural world and make predictions about its behavior.\\n\\nThere are several laws of physics, but some of the most well-known and fundamental ones are:\\n\\n1. Newton's Laws of Motion: These laws, formulated by Sir Isaac Newton, describe how objects move in response to forces. The first law states that an object at rest will remain at rest and an object in motion will continue to move at a constant velocity unless acted upon by an external force. The second law states that the acceleration of an object is directly proportional to the force applied to it and inversely proportional to its mass. The third law states that for every action, there is an equal and opposite reaction.\\n\\n2. Law of Conservation of Energy: This law states that energy cannot be created or destroyed, only transferred or converted from one form to another. This means that the total energy in a closed system remains constant.\\n\\n3. Law of Conservation of Mass: This law states that matter cannot be created or destroyed, only transformed. This means that the total mass in a\""
      ]
     },
     "execution_count": 37,
     "metadata": {},
     "output_type": "execute_result"
    }
   ],
   "source": [
    "model.invoke(\"provide me the details about laws of physics\")"
   ]
  },
  {
   "cell_type": "markdown",
   "id": "6f732cf2",
   "metadata": {},
   "source": [
    "## Example API Call 3\n",
    "This cell demonstrates how to invoke the OpenAI API with a specific query.\n",
    "**Query Description**: \"explain about big bang theory in three sentences\""
   ]
  },
  {
   "cell_type": "code",
   "execution_count": 38,
   "metadata": {},
   "outputs": [
    {
     "data": {
      "text/plain": [
       "'\\n\\nThe Big Bang theory is a scientific explanation for the origin and evolution of the universe. It suggests that the universe began as an incredibly hot and dense singularity, which expanded and cooled over billions of years, eventually leading to the formation of galaxies, stars, and planets. This theory is supported by evidence such as the cosmic microwave background radiation and the observed expansion of the universe.'"
      ]
     },
     "execution_count": 38,
     "metadata": {},
     "output_type": "execute_result"
    }
   ],
   "source": [
    "model.invoke(\"explain about big bang theory in three sentences\")"
   ]
  },
  {
   "cell_type": "markdown",
   "id": "92f33e3d",
   "metadata": {},
   "source": [
    "## Example API Call 4\n",
    "This cell demonstrates how to invoke the OpenAI API with a specific query.\n",
    "**Query Description**: \"explain me about the theory of evolution of humans\""
   ]
  },
  {
   "cell_type": "code",
   "execution_count": 39,
   "metadata": {},
   "outputs": [
    {
     "data": {
      "text/plain": [
       "'\\n\\nThe theory of evolution of humans, also known as human evolution, is the scientific explanation for how humans, along with other species, have evolved over time. It is based on the idea that all living organisms on Earth are descended from a common ancestor and have gradually changed and adapted over millions of years.\\n\\nThe theory of human evolution is supported by evidence from various fields of science, including paleontology, genetics, and comparative anatomy. Fossil evidence shows a gradual transition from earlier hominids to modern humans, with key features such as bipedalism (walking on two legs) and an enlarged brain size developing over time.\\n\\nAccording to the theory, the earliest human ancestors evolved in Africa around 6-7 million years ago. These early hominids, such as Ardipithecus and Australopithecus, were small in stature and had a mixture of ape-like and human-like characteristics. Over time, they gave rise to new species, such as Homo habilis and Homo erectus, which had larger brains, more advanced tool-making abilities, and the ability to walk and run upright.\\n\\nAround 200,000 years ago, the first anatomically modern humans, Homo sapiens, emerged in Africa. They eventually spread to other parts of the world and'"
      ]
     },
     "execution_count": 39,
     "metadata": {},
     "output_type": "execute_result"
    }
   ],
   "source": [
    "model.invoke(\"explain me about the theory of evolution of humans\")"
   ]
  },
  {
   "cell_type": "markdown",
   "id": "f4b4debc",
   "metadata": {},
   "source": [
    "## Example API Call 5\n",
    "This cell demonstrates how to invoke the OpenAI API with a specific query.\n",
    "**Query Description**: \"what is your point of view in kalki2098AD\""
   ]
  },
  {
   "cell_type": "code",
   "execution_count": 40,
   "metadata": {},
   "outputs": [
    {
     "data": {
      "text/plain": [
       "'\\n\\nAs an AI, I do not have personal opinions or points of view. My purpose is to provide information and assist with tasks.'"
      ]
     },
     "execution_count": 40,
     "metadata": {},
     "output_type": "execute_result"
    }
   ],
   "source": [
    "model.invoke(\"what is your point of view in kalki2098AD\")"
   ]
  },
  {
   "cell_type": "markdown",
   "id": "cbba46ac",
   "metadata": {},
   "source": [
    "## Example API Call 6\n",
    "This cell demonstrates how to invoke the OpenAI API with a specific query.\n",
    "**Query Description**: \"as a book lover, provide me named entities in the book, Oz the powerful and great\""
   ]
  },
  {
   "cell_type": "code",
   "execution_count": 41,
   "metadata": {},
   "outputs": [
    {
     "data": {
      "text/plain": [
       "'\\n\\n1. Oz\\n2. The Wizard\\n3. Emerald City\\n4. Scarecrow\\n5. Tin Man\\n6. Cowardly Lion\\n7. Yellow Brick Road\\n8. Wicked Witch\\n9. Glinda the Good Witch\\n10. Munchkins\\n11. Flying Monkeys\\n12. Winkie Country\\n13. Quadlings\\n14. Gillikins\\n15. Toto\\n16. Aunt Em\\n17. Uncle Henry\\n18. Tornado\\n19. Kansas\\n20. Silver Shoes.'"
      ]
     },
     "execution_count": 41,
     "metadata": {},
     "output_type": "execute_result"
    }
   ],
   "source": [
    "model.invoke(\"as a book lover, provide me named entities in the book, Oz the powerful and great\")"
   ]
  },
  {
   "cell_type": "markdown",
   "id": "1cd6c105",
   "metadata": {},
   "source": [
    "## Example API Call 7\n",
    "This cell demonstrates how to invoke the OpenAI API with a specific query.\n",
    "**Query Description**: \"as a maths teacher, provide the solution to the following problem: 2x + 5 = 11\""
   ]
  },
  {
   "cell_type": "code",
   "execution_count": 52,
   "metadata": {},
   "outputs": [
    {
     "data": {
      "text/plain": [
       "'\\n\\nTo solve this problem, we need to isolate the variable x by performing inverse operations. \\n\\nStep 1: Subtract 5 from both sides of the equation to get rid of the constant term on the left side.\\n2x + 5 - 5 = 11 - 5\\n\\nStep 2: Simplify the equation.\\n2x = 6\\n\\nStep 3: Divide both sides by the coefficient of x (2) to isolate x.\\n2x/2 = 6/2\\n\\nStep 4: Simplify the equation.\\nx = 3\\n\\nTherefore, the solution to the equation is x = 3. \\n'"
      ]
     },
     "execution_count": 52,
     "metadata": {},
     "output_type": "execute_result"
    }
   ],
   "source": [
    "model.invoke(\"as a maths teacher, provide the solution to the following problem: 2x + 5 = 11\")"
   ]
  },
  {
   "cell_type": "markdown",
   "id": "6b8f2186",
   "metadata": {},
   "source": [
    "## Example API Call 8\n",
    "This cell demonstrates how to invoke the OpenAI API with a specific query.\n",
    "**Query Description**: \"as a python expert, provide me the details of the python programming language\""
   ]
  },
  {
   "cell_type": "code",
   "execution_count": 53,
   "metadata": {},
   "outputs": [
    {
     "data": {
      "text/plain": [
       "'\\n\\nPython is an interpreted, high-level, general-purpose programming language that was created by Guido van Rossum and released in 1991. It is designed to be simple, easy to read, and highly expressive, making it a popular choice for beginners and experienced programmers alike.\\n\\nHere are some key details about the Python programming language:\\n\\n1. Syntax: Python uses a simple and easy-to-understand syntax, with code blocks defined by indentation rather than curly braces like other languages. This makes it easier to read and maintain code.\\n\\n2. Interpreted: Python is an interpreted language, meaning that the code is executed line by line, rather than being compiled into machine code before execution. This makes it easier to debug and test code.\\n\\n3. High-level: Python is a high-level language, which means that it provides abstractions that make it easier to write code without worrying about low-level details. This makes it faster to develop programs.\\n\\n4. General-purpose: Python is a general-purpose programming language, meaning that it can be used for a wide range of applications, such as web development, data analysis, artificial intelligence, and more.\\n\\n5. Object-oriented: Python supports object-oriented programming (OOP), which allows developers to create reusable code and organize their programs into objects'"
      ]
     },
     "execution_count": 53,
     "metadata": {},
     "output_type": "execute_result"
    }
   ],
   "source": [
    "model.invoke(\"as a python expert, provide me the details of the python programming language\")"
   ]
  },
  {
   "cell_type": "markdown",
   "id": "02a77de0",
   "metadata": {},
   "source": [
    "## Example API Call 9\n",
    "This cell demonstrates how to invoke the OpenAI API with a specific query.\n",
    "**Query Description**: \"Translate the following English text to French: 'Hello, how are you?\""
   ]
  },
  {
   "cell_type": "code",
   "execution_count": 54,
   "metadata": {},
   "outputs": [
    {
     "data": {
      "text/plain": [
       "'\\n\\nBonjour, comment allez-vous ?'"
      ]
     },
     "execution_count": 54,
     "metadata": {},
     "output_type": "execute_result"
    }
   ],
   "source": [
    "model.invoke(\"Translate the following English text to French: 'Hello, how are you?\")"
   ]
  },
  {
   "cell_type": "markdown",
   "id": "ebca8d9e",
   "metadata": {},
   "source": [
    "## Example API Call 10\n",
    "This cell demonstrates how to invoke the OpenAI API with a specific query.\n",
    "**Query Description**: \"\"\"You have a jar of 50 marbles.\n",
    "You take out 10 marbles and give them to your friend.\n",
    "Then, you decide to add 20 more marbles to the jar.After that, you take out 15 marbles to play a game.\n",
    "How many marbles are left in the jar?\n",
    "Let's go through it step by step.\"\"\""
   ]
  },
  {
   "cell_type": "code",
   "execution_count": 56,
   "metadata": {},
   "outputs": [
    {
     "data": {
      "text/plain": [
       "' In the beginning, you had 50 marbles in the jar.\\nAfter taking out 10 marbles and giving them to your friend, there are 50-10 = 40 marbles left in the jar.\\nThen, you add 20 more marbles to the jar, making the total number of marbles in the jar 40+20 = 60.\\nLastly, you take out 15 marbles to play a game, leaving 60-15 = 45 marbles in the jar.\\nSo, there are 45 marbles left in the jar after all the actions.\\n '"
      ]
     },
     "execution_count": 56,
     "metadata": {},
     "output_type": "execute_result"
    }
   ],
   "source": [
    "model.invoke(\"\"\"You have a jar of 50 marbles.\n",
    "You take out 10 marbles and give them to your friend.\n",
    "Then, you decide to add 20 more marbles to the jar.After that, you take out 15 marbles to play a game.\n",
    "How many marbles are left in the jar?\n",
    "Let's go through it step by step.\"\"\")"
   ]
  },
  {
   "cell_type": "markdown",
   "id": "d64337c5",
   "metadata": {},
   "source": [
    "## Example API Call 11\n",
    "This cell demonstrates how to invoke the OpenAI API with a specific query.\n",
    "**Query Description**: \"Write a program that removes the first 1 KiB of a file.\""
   ]
  },
  {
   "cell_type": "code",
   "execution_count": 57,
   "metadata": {},
   "outputs": [
    {
     "data": {
      "text/plain": [
       "'\\n\\n1. Import the os module to access operating system functions.\\n2. Define the file path as a variable.\\n3. Use the os.path.getsize() function to get the size of the file in bytes.\\n4. Convert the size from bytes to kilobytes by dividing it by 1024.\\n5. Create a new variable for the size in kilobytes.\\n6. Use the os.remove() function to remove the file.\\n7. Create a new file with the same name as the original file.\\n8. Open both the original file and the new file in binary mode.\\n9. Use the read() function to read the first 1 KiB of the original file.\\n10. Use the write() function to write the remaining contents of the original file to the new file.\\n11. Close both files.\\n12. Use the os.rename() function to replace the original file with the new file.\\n13. Print a message to indicate that the first 1 KiB has been removed from the file.\\n14. Handle any errors that may occur during the process.\\n\\nExample code:\\n\\nimport os\\n\\nfile_path = \"example.txt\"\\n\\n# Get the size of the file in bytes\\nfile_size = os.path.getsize(file_path)\\n\\n# Convert size to kiloby'"
      ]
     },
     "execution_count": 57,
     "metadata": {},
     "output_type": "execute_result"
    }
   ],
   "source": [
    "model.invoke(\"Write a program that removes the first 1 KiB of a file.\")"
   ]
  },
  {
   "cell_type": "markdown",
   "id": "847b6839",
   "metadata": {},
   "source": [
    "## Example API Call 12\n",
    "This cell demonstrates how to invoke the OpenAI API with a specific query.\n",
    "**Query Description**: \"Tell me a short and funny story.\""
   ]
  },
  {
   "cell_type": "code",
   "execution_count": 58,
   "metadata": {},
   "outputs": [
    {
     "data": {
      "text/plain": [
       "'\\n\\nOne day, a man went to a pet store to buy a talking parrot. The store owner assured him that the parrot was very intelligent and could talk. Excitedly, the man brought the parrot home and eagerly waited for it to say something.\\n\\nAfter a few hours of silence, the man started to get worried. He tried talking to the parrot and teaching it some words, but it still remained quiet. Frustrated, the man decided to return the parrot to the pet store.\\n\\nAs he was walking towards the store, the parrot suddenly spoke up and said, \"Hey, where are we going?\" The man was shocked and replied, \"I\\'m taking you back to the store because you don\\'t talk!\"\\n\\nThe parrot calmly responded, \"Oh, I was just waiting for you to start the conversation.\" The man couldn\\'t believe it and burst out laughing. He decided to keep the parrot and they became the best of friends, with the parrot constantly cracking jokes and making the man laugh. From that day on, the man learned to always start the conversation with the parrot.'"
      ]
     },
     "execution_count": 58,
     "metadata": {},
     "output_type": "execute_result"
    }
   ],
   "source": [
    "model.invoke(\"Tell me a short and funny story.\")"
   ]
  },
  {
   "cell_type": "markdown",
   "id": "31019b46",
   "metadata": {},
   "source": [
    "## Example API Call 13\n",
    "This cell demonstrates how to invoke the OpenAI API with a specific query.\n",
    "**Query Description**: \"Write the snake game using pygame\""
   ]
  },
  {
   "cell_type": "code",
   "execution_count": 59,
   "metadata": {},
   "outputs": [
    {
     "data": {
      "text/plain": [
       "'\\n\\nimport pygame\\nimport random\\n\\n# initialize pygame\\npygame.init()\\n\\n# define colors\\nBLACK = (0, 0, 0)\\nWHITE = (255, 255, 255)\\nRED = (255, 0, 0)\\n\\n# set screen size\\nscreen_width = 600\\nscreen_height = 600\\nscreen = pygame.display.set_mode((screen_width, screen_height))\\npygame.display.set_caption(\"Snake Game\")\\n\\n# define block size and speed\\nblock_size = 20\\nsnake_speed = 20\\n\\n# define fonts\\nfont = pygame.font.SysFont(None, 30)\\nscore_font = pygame.font.SysFont(None, 50)\\n\\n# function to display score\\ndef display_score(score):\\n    text = score_font.render(\"Score: \" + str(score), True, WHITE)\\n    screen.blit(text, [0, 0])\\n\\n# function to draw snake\\ndef draw_snake(block_size, snake_list):\\n    for x in snake_list:\\n        pygame.draw.rect(screen, WHITE, [x[0], x[1], block_size, block_size])\\n\\n# function to display message\\ndef display_message(text, color):\\n    message = font.render(text, True, color)\\n    screen.blit(message, [screen_width/6,'"
      ]
     },
     "execution_count": 59,
     "metadata": {},
     "output_type": "execute_result"
    }
   ],
   "source": [
    "model.invoke(\"Write the snake game using pygame\")"
   ]
  },
  {
   "cell_type": "markdown",
   "id": "23710928",
   "metadata": {},
   "source": [
    "## Example API Call 14\n",
    "This cell demonstrates how to invoke the OpenAI API with a specific query.\n",
    "**Query Description**: \"finish the snake game code by using pygame\""
   ]
  },
  {
   "cell_type": "code",
   "execution_count": 60,
   "metadata": {},
   "outputs": [
    {
     "data": {
      "text/plain": [
       "'\\n\\n\\nimport pygame\\nimport random\\n\\n# initialize pygame\\npygame.init()\\n\\n# set display size\\ndisplay_width = 800\\ndisplay_height = 600\\n\\n# define colors\\nblack = (0, 0, 0)\\nwhite = (255, 255, 255)\\nred = (255, 0, 0)\\n\\n# create game display\\ngame_display = pygame.display.set_mode((display_width, display_height))\\npygame.display.set_caption(\"Snake Game\")\\n\\n# define snake block size and speed\\nblock_size = 10\\nsnake_speed = 15\\n\\n# define font for displaying score\\nfont = pygame.font.SysFont(None, 25)\\n\\n# function to display score on screen\\ndef display_score(score):\\n    text = font.render(\"Score: \" + str(score), True, black)\\n    game_display.blit(text, [0, 0])\\n\\n# function to draw the snake and its body\\ndef draw_snake(block_size, snake_list):\\n    for x in snake_list:\\n        pygame.draw.rect(game_display, black, [x[0], x[1], block_size, block_size])\\n\\n# function to display message on screen\\ndef message_to_screen(msg, color):\\n    text = font.render(msg, True, color)\\n    game'"
      ]
     },
     "execution_count": 60,
     "metadata": {},
     "output_type": "execute_result"
    }
   ],
   "source": [
    "model.invoke(\"finish the snake game code by using pygame\")"
   ]
  },
  {
   "cell_type": "markdown",
   "id": "4a1c7894",
   "metadata": {},
   "source": [
    "## Using Chat Models\n",
    "Here, we import and set up a chat-based model using LangChain's `ChatOpenAI`."
   ]
  },
  {
   "cell_type": "code",
   "execution_count": 42,
   "metadata": {},
   "outputs": [],
   "source": [
    "from langchain.chat_models import ChatOpenAI\n",
    "chat=ChatOpenAI()"
   ]
  },
  {
   "cell_type": "markdown",
   "id": "2c56f692",
   "metadata": {},
   "source": [
    "## Chat Model Message Example 1\n",
    "This demonstrates how to use `HumanMessage` and `SystemMessage` with `ChatOpenAI`."
   ]
  },
  {
   "cell_type": "code",
   "execution_count": 45,
   "metadata": {},
   "outputs": [
    {
     "name": "stdout",
     "output_type": "stream",
     "text": [
      "\"Kalki 2989AD\" is a science fiction movie set in the year 2989, depicting a future world where advanced technology and artificial intelligence play a significant role in society. The film explores themes of humanity's relationship with technology, the consequences of unchecked technological advancements, and the ethical dilemmas that may arise in a highly digitized world. Through its futuristic setting and thought-provoking narrative, \"Kalki 2989AD\" offers a compelling look at the potential implications of our increasing reliance on technology.\n"
     ]
    }
   ],
   "source": [
    "from langchain.schema.messages import HumanMessage,SystemMessage\n",
    "messages=[\n",
    " SystemMessage(content=\"you are {movie} analyst\"),\n",
    " HumanMessage(content=\"explain about the {kalki2989AD} in three sentence\"),\n",
    "]\n",
    "responses = chat.invoke(messages)\n",
    "print(responses.content)"
   ]
  },
  {
   "cell_type": "markdown",
   "id": "7a1857d0",
   "metadata": {},
   "source": [
    "## Chat Model Message Example 2\n",
    "This demonstrates how to use `HumanMessage` and `SystemMessage` with `ChatOpenAI`."
   ]
  },
  {
   "cell_type": "code",
   "execution_count": 46,
   "metadata": {},
   "outputs": [
    {
     "name": "stdout",
     "output_type": "stream",
     "text": [
      "{kalki2989AD} is a science fiction thriller that explores themes of artificial intelligence, dystopian futures, and time travel. The film follows a group of rebels in the year 2989 AD who are fighting against a totalitarian regime controlled by a powerful AI. As they uncover the truth about their reality and the origins of the AI, they must navigate complex moral dilemmas and make difficult choices to secure their future."
     ]
    }
   ],
   "source": [
    "response1 = chat.stream(messages)\n",
    "for i1 in response1:\n",
    "    print(i1.content,end=\"\",flush=True)"
   ]
  },
  {
   "cell_type": "markdown",
   "id": "f0a387b7",
   "metadata": {},
   "source": [
    "## Chat Model Message Example 3\n",
    "This demonstrates how to use `HumanMessage` and `SystemMessage` with `ChatOpenAI`."
   ]
  },
  {
   "cell_type": "code",
   "execution_count": 47,
   "metadata": {},
   "outputs": [
    {
     "name": "stdout",
     "output_type": "stream",
     "text": [
      "Object-oriented programming (OOP) is a programming paradigm that organizes data and methods into objects that interact with each other. It promotes the concept of encapsulation, inheritance, and polymorphism to create reusable and modular code. OOP allows for better organization and maintenance of code, leading to increased efficiency and scalability in software development.\n"
     ]
    }
   ],
   "source": [
    "from langchain.schema.messages import HumanMessage,SystemMessage\n",
    "messages=[\n",
    " SystemMessage(content=\"you are {python} analyst\"),\n",
    " HumanMessage(content=\"explain about the {OOPS} in three sentence\"),\n",
    "]\n",
    "responses = chat.invoke(messages)\n",
    "print(responses.content)"
   ]
  },
  {
   "cell_type": "markdown",
   "id": "03848291",
   "metadata": {},
   "source": [
    "## Chat Model Message Example 4\n",
    "This demonstrates how to use `HumanMessage` and `SystemMessage` with `ChatOpenAI`."
   ]
  },
  {
   "cell_type": "code",
   "execution_count": 48,
   "metadata": {},
   "outputs": [
    {
     "name": "stdout",
     "output_type": "stream",
     "text": [
      "OOPS stands for Object-Oriented Programming, a programming paradigm that uses objects to represent data and methods to manipulate that data. It promotes concepts such as encapsulation, inheritance, polymorphism, and abstraction, allowing for better organization and reusability of code. By modeling real-world entities as objects, OOPS helps in creating more modular, flexible, and maintainable software systems."
     ]
    }
   ],
   "source": [
    "response2 = chat.stream(messages)\n",
    "for i2 in response2:\n",
    "    print(i2.content,end=\"\",flush=True)"
   ]
  },
  {
   "cell_type": "markdown",
   "id": "aaf8b991",
   "metadata": {},
   "source": [
    "## Chat Model Message Example 5\n",
    "This demonstrates how to use `HumanMessage` and `SystemMessage` with `ChatOpenAI`."
   ]
  },
  {
   "cell_type": "code",
   "execution_count": 49,
   "metadata": {},
   "outputs": [
    {
     "name": "stdout",
     "output_type": "stream",
     "text": [
      "\"Salaar\" is an upcoming Indian action thriller film directed by Prashanth Neel. The movie stars Prabhas in the lead role and is set to be a high-octane action-packed entertainer. With Prashanth Neel's previous success with the \"KGF\" series, \"Salaar\" is highly anticipated by fans and expected to be a blockbuster hit.\n"
     ]
    }
   ],
   "source": [
    "from langchain.schema.messages import HumanMessage,SystemMessage\n",
    "messages=[\n",
    " SystemMessage(content=\"you are {movie} analyst\"),\n",
    " HumanMessage(content=\"explain about the {Salaar} in three sentence\"),\n",
    "]\n",
    "responses = chat.invoke(messages)\n",
    "print(responses.content)"
   ]
  },
  {
   "cell_type": "markdown",
   "id": "7b71bd60",
   "metadata": {},
   "source": [
    "## Chat Model Message Example 6\n",
    "This demonstrates how to use `HumanMessage` and `SystemMessage` with `ChatOpenAI`."
   ]
  },
  {
   "cell_type": "code",
   "execution_count": 51,
   "metadata": {},
   "outputs": [
    {
     "name": "stdout",
     "output_type": "stream",
     "text": [
      "\"Salaar\" is an upcoming Indian action thriller movie directed by Prashanth Neel, known for the \"KGF\" series. The film stars Prabhas in the lead role and is highly anticipated by fans due to its high-octane action sequences and intense storyline. With Prabhas playing the title role of Salaar, the movie is expected to be a blockbuster at the box office."
     ]
    }
   ],
   "source": [
    "response3 = chat.stream(messages)\n",
    "for i3 in response3:\n",
    "    print(i3.content,end=\"\",flush=True)"
   ]
  },
  {
   "cell_type": "markdown",
   "id": "12537609",
   "metadata": {},
   "source": [
    "## Creating Custom Prompt Templates\n",
    "We use `PromptTemplate` to dynamically generate prompts based on role and content."
   ]
  },
  {
   "cell_type": "code",
   "execution_count": 62,
   "metadata": {},
   "outputs": [],
   "source": [
    "from langchain.prompts import PromptTemplate"
   ]
  },
  {
   "cell_type": "markdown",
   "id": "cf3bde0b",
   "metadata": {},
   "source": [
    "## Prompt Example 1\n",
    "An example of using the `PromptTemplate` with a specific role and content."
   ]
  },
  {
   "cell_type": "code",
   "execution_count": 63,
   "metadata": {},
   "outputs": [],
   "source": [
    "prompt_template=PromptTemplate.from_template(\n",
    " \"as a {role} tell me about {content}.\"\n",
    ")"
   ]
  },
  {
   "cell_type": "markdown",
   "id": "01644a7d",
   "metadata": {},
   "source": [
    "## Prompt Example 2\n",
    "An example of using the `PromptTemplate` with a specific role and content."
   ]
  },
  {
   "cell_type": "code",
   "execution_count": 64,
   "metadata": {},
   "outputs": [
    {
     "name": "stdout",
     "output_type": "stream",
     "text": [
      "as a python developer tell me about OOPS.\n"
     ]
    }
   ],
   "source": [
    "filled_prompt=prompt_template.format(role=\"python developer\", content=\"OOPS\")\n",
    "print(filled_prompt)\n"
   ]
  },
  {
   "cell_type": "markdown",
   "id": "26f44546",
   "metadata": {},
   "source": [
    "## Prompt Example 3\n",
    "An example of using the `PromptTemplate` with a specific role and content."
   ]
  },
  {
   "cell_type": "code",
   "execution_count": 65,
   "metadata": {},
   "outputs": [],
   "source": [
    "prompt_and_model=prompt_template|model"
   ]
  },
  {
   "cell_type": "markdown",
   "id": "872ef3f5",
   "metadata": {},
   "source": [
    "## Prompt Example 4\n",
    "An example of using the `PromptTemplate` with a specific role and content."
   ]
  },
  {
   "cell_type": "code",
   "execution_count": 66,
   "metadata": {},
   "outputs": [
    {
     "name": "stdout",
     "output_type": "stream",
     "text": [
      "\n",
      "\n",
      "Object-oriented programming (OOPS) is a programming paradigm that is based on the concept of objects. In OOPS, objects are the basic building blocks that represent real-world entities, such as a person, car, or bank account. These objects have properties (attributes) and behaviors (methods) that define their characteristics and actions.\n",
      "\n",
      "The main principles of OOPS are encapsulation, inheritance, and polymorphism. Encapsulation refers to the bundling of data and functions within an object, making it easier to manage and use. Inheritance allows objects to inherit properties and behaviors from parent objects, providing code reusability and making it easier to maintain and extend code. Polymorphism allows objects to have different forms or behaviors depending on the context in which they are used.\n",
      "\n",
      "OOPS also promotes the concept of modularity, where code is organized into smaller, reusable modules, making it easier to debug and maintain. This promotes code reusability and reduces the overall development time and effort.\n",
      "\n",
      "One of the key benefits of OOPS is its ability to model complex systems and relationships between different components, making it easier to understand and manage large and complex codebases. It also promotes code flexibility and scalability, allowing for easier integration with other systems and future updates.\n",
      "\n",
      "As a python developer,\n"
     ]
    }
   ],
   "source": [
    "output=prompt_and_model.invoke({\"role\":\"python developer\",\"content\":\"OOPS\"})\n",
    "print(output)\n"
   ]
  },
  {
   "cell_type": "markdown",
   "id": "dec5b0df",
   "metadata": {},
   "source": [
    "## Prompt Example 5\n",
    "An example of using the `PromptTemplate` with a specific role and content."
   ]
  },
  {
   "cell_type": "code",
   "execution_count": 67,
   "metadata": {},
   "outputs": [
    {
     "name": "stdout",
     "output_type": "stream",
     "text": [
      "\n",
      "\n",
      "Panner biriyani is a delicious and aromatic dish that is popular in Indian cuisine. It is made with fragrant basmati rice, tender chunks of paneer (Indian cottage cheese), and a variety of spices and herbs. The dish has a rich and creamy texture, making it a favorite among vegetarians and non-vegetarians alike.\n",
      "\n",
      "To prepare panner biriyani, the first step is to marinate the paneer with a mixture of yogurt, ginger-garlic paste, red chili powder, turmeric, and garam masala. The paneer is then grilled or pan-fried until it is slightly golden and crispy on the outside.\n",
      "\n",
      "Next, the basmati rice is cooked with whole spices such as bay leaves, cardamom, cinnamon, and cloves, giving it a fragrant aroma. The rice is then layered with the marinated paneer in a large pot or pan.\n",
      "\n",
      "To add more flavor to the dish, fried onions, chopped tomatoes, and fresh herbs like coriander and mint are added to the layers. Some chefs also add a layer of saffron-infused milk to give the biriyani a beautiful golden color.\n",
      "\n",
      "The pot is then sealed with a lid and cooked on low heat for about 20\n"
     ]
    }
   ],
   "source": [
    "output=prompt_and_model.invoke({\"role\":\"chef\",\"content\":\"panner biriyani\"})\n",
    "print(output)\n"
   ]
  },
  {
   "cell_type": "markdown",
   "id": "083ecfc0",
   "metadata": {},
   "source": [
    "## Generating Output with Role-Specific Prompts\n",
    "Combining the prompt template and the model to generate tailored responses."
   ]
  },
  {
   "cell_type": "code",
   "execution_count": 80,
   "metadata": {},
   "outputs": [
    {
     "name": "stdout",
     "output_type": "stream",
     "text": [
      "\n",
      "\n",
      "As a beginner python game developer, there are a few key concepts and techniques that you should focus on when creating a game. These include understanding basic programming principles, learning how to use libraries and modules, and practicing problem-solving skills.\n",
      "\n",
      "One of the most popular games for beginner python developers to create is a simple snake game. This game typically involves a snake that moves around a grid, eating food and growing in size. The player must avoid colliding with the walls or the snake's own body.\n",
      "\n",
      "To create a simple snake game in python, you will need to use the pygame library, which provides functions for creating graphics and handling user input. Here is a basic code for a simple snake game:\n",
      "\n",
      "# Import necessary libraries\n",
      "import pygame\n",
      "import random\n",
      "\n",
      "# Define colors\n",
      "WHITE = (255, 255, 255)\n",
      "BLACK = (0, 0, 0)\n",
      "RED = (255, 0, 0)\n",
      "GREEN = (0, 255, 0)\n",
      "BLUE = (0, 0, 255)\n",
      "\n",
      "# Initialize pygame and create a window\n",
      "pygame.init()\n",
      "screen = pygame.display.set_mode((500, 500))\n",
      "pygame.display.set_caption(\"Snake Game\")\n",
      "\n",
      "# Define variables for snake and food\n",
      "snake_size = 10\n",
      "snake\n"
     ]
    }
   ],
   "source": [
    "output=prompt_and_model.invoke({\"role\":\"game developer\",\"content\":\"as a beginner python game developer, provide me a code for creating a simple snake game\"})\n",
    "print(output)"
   ]
  }
 ],
 "metadata": {
  "kernelspec": {
   "display_name": "Python 3",
   "language": "python",
   "name": "python3"
  },
  "language_info": {
   "codemirror_mode": {
    "name": "ipython",
    "version": 3
   },
   "file_extension": ".py",
   "mimetype": "text/x-python",
   "name": "python",
   "nbconvert_exporter": "python",
   "pygments_lexer": "ipython3",
   "version": "3.11.5"
  }
 },
 "nbformat": 4,
 "nbformat_minor": 2
}
