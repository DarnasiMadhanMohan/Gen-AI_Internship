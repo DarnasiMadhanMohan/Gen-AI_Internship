{
 "cells": [
  {
   "cell_type": "code",
   "execution_count": 1,
   "id": "afab0e41-a8fa-46a1-ab1a-85dadf4d33c5",
   "metadata": {},
   "outputs": [],
   "source": [
    "import os\n",
    "#os.environ[\"OPENAI_API_KEY\"]=\"\"\n",
    "os.environ[\"OPENAI_API_KEY\"]=\"\""
   ]
  },
  {
   "cell_type": "code",
   "execution_count": 2,
   "id": "81a05876-01c8-4576-843f-ab4881b03627",
   "metadata": {},
   "outputs": [],
   "source": [
    "from langchain.llms import OpenAI"
   ]
  },
  {
   "cell_type": "code",
   "execution_count": 3,
   "id": "274a41a8-0767-4efa-a3ab-d3d9d53c1eb3",
   "metadata": {},
   "outputs": [
    {
     "name": "stderr",
     "output_type": "stream",
     "text": [
      "C:\\Users\\D MADHAN MOHAN\\AppData\\Local\\Temp\\ipykernel_19028\\2716716714.py:1: LangChainDeprecationWarning: The class `OpenAI` was deprecated in LangChain 0.0.10 and will be removed in 1.0. An updated version of the class exists in the :class:`~langchain-openai package and should be used instead. To use it run `pip install -U :class:`~langchain-openai` and import as `from :class:`~langchain_openai import OpenAI``.\n",
      "  model = OpenAI()\n"
     ]
    }
   ],
   "source": [
    "model = OpenAI()"
   ]
  },
  {
   "cell_type": "code",
   "execution_count": 4,
   "id": "7356d083-cdab-4e98-8bae-736c62ae08e1",
   "metadata": {},
   "outputs": [
    {
     "data": {
      "text/plain": [
       "'\\n\\n\\n\\nAs of November 2021, the president of the United States is Joe Biden.'"
      ]
     },
     "execution_count": 4,
     "metadata": {},
     "output_type": "execute_result"
    }
   ],
   "source": [
    "model.invoke(\"who is president of USA\")"
   ]
  },
  {
   "cell_type": "code",
   "execution_count": 5,
   "id": "181e80f5",
   "metadata": {},
   "outputs": [
    {
     "data": {
      "text/plain": [
       "'\\n\\nDonald J. Trump is a businessman, television personality, and politician who served as the 45th President of the United States from 2017 to 2021. He was born on June 14, 1946, in Queens, New York, and was a prominent figure in the real estate industry before entering politics. Trump is known for his controversial and unconventional style of leadership and his policies on immigration, trade, and foreign relations. He ran for re-election in 2020 but was defeated by Joe Biden. '"
      ]
     },
     "execution_count": 5,
     "metadata": {},
     "output_type": "execute_result"
    }
   ],
   "source": [
    "model.invoke(\"who is Donald. J Trump\")"
   ]
  },
  {
   "cell_type": "code",
   "execution_count": 6,
   "id": "5d9bc6d7",
   "metadata": {},
   "outputs": [
    {
     "data": {
      "text/plain": [
       "'\\n\\nIngredients:\\n- 2 boneless, skinless chicken breasts\\n- Salt and pepper\\n- 1 cup all-purpose flour\\n- 2 large eggs, beaten\\n- 1 cup Italian breadcrumbs\\n- 1/2 cup grated Parmesan cheese\\n- 2 tablespoons olive oil\\n- 4 slices of your favorite bread\\n- 1/4 cup marinara sauce\\n- 4 slices provolone cheese\\n- 2 tablespoons butter\\n- 2 cloves garlic, minced\\n- Fresh basil leaves, for serving (optional)\\n\\nInstructions:\\n\\n1. Preheat your oven to 375°F (190°C).\\n\\n2. Season the chicken breasts with salt and pepper on both sides.\\n\\n3. Set up a breading station by placing the flour, beaten eggs, and breadcrumbs mixed with Parmesan cheese in three separate shallow dishes.\\n\\n4. Dip each chicken breast in the flour, shaking off any excess. Then dip it into the beaten eggs, followed by the breadcrumb mixture, pressing the breadcrumbs onto the chicken to ensure they stick.\\n\\n5. Heat olive oil in a large skillet over medium heat. Add the breaded chicken breasts and cook for 3-4 minutes on each side until golden brown.\\n\\n6. While the chicken is cooking, spread a thin'"
      ]
     },
     "execution_count": 6,
     "metadata": {},
     "output_type": "execute_result"
    }
   ],
   "source": [
    "model.invoke(\"give me the recipe for a chicken parmesan sandwich\")"
   ]
  },
  {
   "cell_type": "code",
   "execution_count": 7,
   "id": "06967390",
   "metadata": {},
   "outputs": [
    {
     "data": {
      "text/plain": [
       "'\\n\\nSachin Tendulkar is a former Indian cricketer who is widely regarded as one of the greatest batsmen in the history of cricket. He was born on April 24, 1973, in Mumbai, India.\\n\\nEarly Life:\\nSachin was born into a middle-class family and his father, Ramesh Tendulkar, was a famous Marathi novelist. He had a keen interest in cricket from a young age and was introduced to the sport by his elder brother, Ajit Tendulkar. He attended Shardashram Vidyamandir School in Mumbai, where he started playing cricket and honing his skills.\\n\\nCareer:\\nSachin made his debut in international cricket at the age of 16, in a Test match against Pakistan in 1989. He went on to play for India for 24 years, making him the longest-serving player in Indian cricket history. He was known for his impeccable batting skills and his ability to score runs consistently against some of the toughest bowlers in the world.\\n\\nAchievements:\\nSachin has numerous records and achievements to his name. He is the only player in the world to have scored 100 international centuries, including 51 Test centuries and 49 ODI centuries.'"
      ]
     },
     "execution_count": 7,
     "metadata": {},
     "output_type": "execute_result"
    }
   ],
   "source": [
    "model.invoke(\"give me the details of sachin tendulkar\")"
   ]
  },
  {
   "cell_type": "code",
   "execution_count": 8,
   "id": "3723f4d8",
   "metadata": {},
   "outputs": [
    {
     "data": {
      "text/plain": [
       "\"\\nCreating an AI that is truly creative and original like JARVIS in the Iron Man movies is currently beyond our current technological capabilities. The AI in the movies is portrayed as having human-like qualities such as emotions, humor, and the ability to think and learn independently. While we have made significant advancements in AI technology, we are still far from being able to create an AI that can possess these qualities.\\n\\nOne of the main challenges in creating such an AI is the ability to replicate human creativity. Creativity is a complex and abstract concept that involves imagination, intuition, and innovation. It is not something that can be easily programmed into a machine. While AI can generate new ideas and solutions based on existing data and algorithms, it cannot truly create something new and original without human intervention.\\n\\nAnother challenge is the ability to understand and interpret human emotions and behavior. JARVIS in the Iron Man movies is portrayed as having a deep understanding of Tony Stark's emotions, thoughts, and intentions. This level of emotional intelligence is not something that current AI technology can achieve.\\n\\nFurthermore, the AI in the movies is shown to have a sense of humor and the ability to understand and respond to sarcasm and irony. This requires a deep understanding of language, context, and social cues, which are still\""
      ]
     },
     "execution_count": 8,
     "metadata": {},
     "output_type": "execute_result"
    }
   ],
   "source": [
    "model.invoke(\"in reality can we create an AI that is truly creative and original, just like JARVIS in iron man movie?\")"
   ]
  },
  {
   "cell_type": "code",
   "execution_count": 9,
   "id": "84160f0a",
   "metadata": {},
   "outputs": [
    {
     "data": {
      "text/plain": [
       "'\\n\\nYes, it is possible to create an AI voice assistant similar to JARVIS. However, it would require advanced programming skills, natural language processing (NLP) capabilities, and access to large amounts of data to train the AI. Additionally, the AI would need to be constantly updated and improved to mimic the intelligence and capabilities of JARVIS.'"
      ]
     },
     "execution_count": 9,
     "metadata": {},
     "output_type": "execute_result"
    }
   ],
   "source": [
    "model.invoke(\"can you create an AI voice assistant like JARVIS\")"
   ]
  },
  {
   "cell_type": "code",
   "execution_count": 10,
   "id": "d910b5f5",
   "metadata": {},
   "outputs": [
    {
     "data": {
      "text/plain": [
       "\"\\n\\nUnfortunately, creating a fully functional voice assistant like Jarvis is beyond the scope of a simple code snippet. It requires a lot of knowledge and expertise in various areas such as natural language processing, machine learning, and speech recognition.\\n\\nHowever, here is a basic outline of the steps you can follow to create a basic voice assistant using Python:\\n\\n1. Import necessary libraries:\\nYou will need to import libraries such as `speech_recognition`, `pyttsx3`, and `pyaudio` to handle speech recognition and text-to-speech conversion.\\n\\n2. Set up speech recognition:\\nInitialize the `speech_recognition` library and set up a recognizer instance to listen to user's voice input.\\n\\n3. Set up text-to-speech conversion:\\nInitialize the `pyttsx3` library and set up an engine to convert text to speech.\\n\\n4. Define functions for different commands:\\nCreate functions to handle different commands that the voice assistant can perform, such as opening applications, searching the web, or providing information.\\n\\n5. Use conditional statements:\\nUse conditional statements to check the user's voice input and call the appropriate function based on the command.\\n\\n6. Add a while loop:\\nCreate a `while` loop to continuously listen to the user's voice input and respond accordingly.\\n\\n7. Add\""
      ]
     },
     "execution_count": 10,
     "metadata": {},
     "output_type": "execute_result"
    }
   ],
   "source": [
    "model.invoke(\"can you provide me the code to create a voice assistant like jarvis using python\")"
   ]
  },
  {
   "cell_type": "code",
   "execution_count": 11,
   "id": "9d130503",
   "metadata": {},
   "outputs": [
    {
     "data": {
      "text/plain": [
       "'\\n\\nAI stands for Artificial Intelligence, which refers to the simulation of human intelligence processes by computer systems. This includes learning, reasoning, and self-correction.\\n\\nThe importance of AI lies in its potential to automate tasks and make decisions based on data and algorithms, which can improve efficiency and accuracy in various industries such as healthcare, finance, transportation, and customer service. It also has the ability to analyze large amounts of data and provide insights and predictions that can help businesses make better decisions.\\n\\nHumans are increasingly depending on AI because it can perform tasks that would normally require human intelligence, saving time and resources. It also has the potential to improve our daily lives by providing personalized recommendations and assistance, such as virtual assistants and smart home devices. However, there are also concerns about the impact of AI on jobs and the potential for bias and ethical issues.'"
      ]
     },
     "execution_count": 11,
     "metadata": {},
     "output_type": "execute_result"
    }
   ],
   "source": [
    "model.invoke(\"what is AI, what are it's important and why are humans depending on AI\")"
   ]
  },
  {
   "cell_type": "code",
   "execution_count": 12,
   "id": "f22c6bfe-dbab-449b-b081-f3e3dbd67d26",
   "metadata": {},
   "outputs": [],
   "source": [
    "from langchain.prompts import PromptTemplate"
   ]
  },
  {
   "cell_type": "code",
   "execution_count": 13,
   "id": "e69ff609-f006-4cfa-9827-bf1ad4a1b83d",
   "metadata": {},
   "outputs": [],
   "source": [
    "json_prompt=PromptTemplate.from_template(template=\"Return a JSON object with birthdate and birthplace key that answers the following question:{question}\")"
   ]
  },
  {
   "cell_type": "code",
   "execution_count": 14,
   "id": "1cc3c772-6af8-4169-b2a9-bd068f467fcc",
   "metadata": {},
   "outputs": [],
   "source": [
    "j_pipe = json_prompt|model"
   ]
  },
  {
   "cell_type": "code",
   "execution_count": 15,
   "id": "47b5f84b-a52b-4b62-a675-d2679d2f9dcb",
   "metadata": {},
   "outputs": [
    {
     "data": {
      "text/plain": [
       "'\\n\\n{\\n  \"birthdate\": \"May 28, 1923\",\\n  \"birthplace\": \"Nimmakuru, Andhra Pradesh, India\"\\n}'"
      ]
     },
     "execution_count": 15,
     "metadata": {},
     "output_type": "execute_result"
    }
   ],
   "source": [
    "j_pipe.invoke(\"where did NTR born\")"
   ]
  },
  {
   "cell_type": "code",
   "execution_count": 16,
   "id": "8275dd77",
   "metadata": {},
   "outputs": [
    {
     "data": {
      "text/plain": [
       "'\\n{\\n  \"birthdate\": \"The Himalayas were formed approximately 70 million years ago.\",\\n  \"birthplace\": \"The Himalayas were formed in the area of modern day India and Nepal, as a result of the collision of the Indian and Eurasian tectonic plates.\"\\n}'"
      ]
     },
     "execution_count": 16,
     "metadata": {},
     "output_type": "execute_result"
    }
   ],
   "source": [
    "j_pipe.invoke(\"how did himalayas formed?\")"
   ]
  },
  {
   "cell_type": "code",
   "execution_count": 17,
   "id": "41d81e68",
   "metadata": {},
   "outputs": [
    {
     "data": {
      "text/plain": [
       "'\\n\\n{\\n    \"birthdate\": \"The meaning of life is a philosophical question that has been debated throughout the ages. It is a question that has no definitive answer and can mean different things to different people. Some believe it is about finding happiness and purpose, while others see it as a journey of self-discovery and personal growth. Ultimately, the meaning of life is a subjective and deeply personal concept that can only be defined by each individual for themselves.\",\\n    \"birthplace\": \"The concept of the meaning of life is thought to have originated in ancient Greece, with philosophers such as Socrates, Plato, and Aristotle pondering the question. However, the idea has been explored and debated by various cultures and religions throughout history, making it difficult to pinpoint a specific birthplace for this concept. It is a universal question that has been and continues to be contemplated by people all over the world.\" \\n}'"
      ]
     },
     "execution_count": 17,
     "metadata": {},
     "output_type": "execute_result"
    }
   ],
   "source": [
    "j_pipe.invoke(\"what is the meaning of life\")"
   ]
  },
  {
   "cell_type": "code",
   "execution_count": 18,
   "id": "9db578a8",
   "metadata": {},
   "outputs": [
    {
     "data": {
      "text/plain": [
       "'\\n\\n{\\n    \"birthdate\": \"Unknown\",\\n    \"birthplace\": \"Garden of Eden\"\\n}\\n\\nAdam and Eve are known as the first human beings according to the Abrahamic religions. They are believed to have been created by God in the Garden of Eden. Their exact birthdate is unknown as it is not mentioned in religious texts. '"
      ]
     },
     "execution_count": 18,
     "metadata": {},
     "output_type": "execute_result"
    }
   ],
   "source": [
    "j_pipe.invoke(\"who are adam and eve, where did they born?\")"
   ]
  },
  {
   "cell_type": "code",
   "execution_count": 19,
   "id": "ef320e9a",
   "metadata": {},
   "outputs": [
    {
     "data": {
      "text/plain": [
       "'\\n\\n{\\n    \"birthdate\": \"Unknown\",\\n    \"birthplace\": \"North Pole\"\\n}'"
      ]
     },
     "execution_count": 19,
     "metadata": {},
     "output_type": "execute_result"
    }
   ],
   "source": [
    "j_pipe.invoke(\"who is santa claus?\")"
   ]
  },
  {
   "cell_type": "code",
   "execution_count": 20,
   "id": "af6ca846",
   "metadata": {},
   "outputs": [
    {
     "data": {
      "text/plain": [
       "'\\n\\n{\\n    \"birthdate\": \"There is no public information available on Madhan Mohan\\'s birthdate.\",\\n    \"birthplace\": \"There is no public information available on Madhan Mohan\\'s birthplace.\"\\n}\\n\\nNote: This assumes that the question refers to a specific person named Madhan Mohan who is not a public figure. If the question is referring to a public figure, please specify who it is in order to provide accurate information.'"
      ]
     },
     "execution_count": 20,
     "metadata": {},
     "output_type": "execute_result"
    }
   ],
   "source": [
    "j_pipe.invoke(\"who is madhan mohan?\")"
   ]
  },
  {
   "cell_type": "code",
   "execution_count": 21,
   "id": "6bea6fe5-85ea-409a-9bec-1948ba10b17e",
   "metadata": {},
   "outputs": [],
   "source": [
    "from langchain.output_parsers.json import SimpleJsonOutputParser\n",
    "json_parser = SimpleJsonOutputParser()"
   ]
  },
  {
   "cell_type": "code",
   "execution_count": 22,
   "id": "cb754010-67f5-477e-9c0e-094391598d25",
   "metadata": {},
   "outputs": [],
   "source": [
    "j_pipe1 = json_prompt|model|json_parser"
   ]
  },
  {
   "cell_type": "code",
   "execution_count": 23,
   "id": "d55c8151-7950-4a45-b6d4-56a48c8ca3db",
   "metadata": {},
   "outputs": [
    {
     "data": {
      "text/plain": [
       "{'birthdate': 'May 28, 1923', 'birthplace': 'Nimmakuru, Andhra Pradesh, India'}"
      ]
     },
     "execution_count": 23,
     "metadata": {},
     "output_type": "execute_result"
    }
   ],
   "source": [
    "j_pipe1.invoke(\"where did NTR born provide me in json format\")"
   ]
  },
  {
   "cell_type": "code",
   "execution_count": 24,
   "id": "bac0151a-ee86-413a-8794-8b38317a47ec",
   "metadata": {},
   "outputs": [
    {
     "data": {
      "text/plain": [
       "'\\n\\n{\\n\"birthdate\": \"October 2, 1869\",\\n\"birthplace\": \"Porbandar, India\"\\n}'"
      ]
     },
     "execution_count": 24,
     "metadata": {},
     "output_type": "execute_result"
    }
   ],
   "source": [
    "j_pipe.invoke(\"where did M.K.Gandhi born\")"
   ]
  },
  {
   "cell_type": "code",
   "execution_count": 25,
   "id": "c0d69d57-f49c-4412-8af7-7d3a55dbd910",
   "metadata": {},
   "outputs": [
    {
     "data": {
      "text/plain": [
       "{'birthdate': 'October 2, 1869', 'birthplace': 'Porbandar, India'}"
      ]
     },
     "execution_count": 25,
     "metadata": {},
     "output_type": "execute_result"
    }
   ],
   "source": [
    "j_pipe1.invoke(\"where did M.K.Gandhi born provide me in json format\")"
   ]
  },
  {
   "cell_type": "code",
   "execution_count": 26,
   "id": "bc99b0ed-db88-46bd-bcd9-b62a0c6fa598",
   "metadata": {},
   "outputs": [
    {
     "data": {
      "text/plain": [
       "'\\n\\n{\\n\"birthdate\": \"September 17, 1950\",\\n\"birthplace\": \"Vadnagar, Bombay State (present day Gujarat), India\"\\n}'"
      ]
     },
     "execution_count": 26,
     "metadata": {},
     "output_type": "execute_result"
    }
   ],
   "source": [
    "j_pipe.invoke(\"where did Narendhara Modi born\")"
   ]
  },
  {
   "cell_type": "code",
   "execution_count": 27,
   "id": "0e3932dd-8d6e-4b39-8da1-0891a3ec797d",
   "metadata": {},
   "outputs": [
    {
     "data": {
      "text/plain": [
       "{'birthdate': 'September 17, 1950',\n",
       " 'birthplace': 'Vadnagar, Bombay State (now Gujarat), India'}"
      ]
     },
     "execution_count": 27,
     "metadata": {},
     "output_type": "execute_result"
    }
   ],
   "source": [
    "j_pipe1.invoke(\"where did Narendhara Modi born\")# provide me in json format\")"
   ]
  },
  {
   "cell_type": "code",
   "execution_count": 28,
   "id": "6295299e",
   "metadata": {},
   "outputs": [
    {
     "data": {
      "text/plain": [
       "'\\n\\n{\\n    \"birthdate\": \"September 28, 1838\",\\n    \"birthplace\": \"Pathri, Maharashtra, India\",\\n    \"who he is\": \"Sai Baba was a spiritual leader and saint who is revered by both Hindus and Muslims. He is known for his teachings of love, forgiveness, and compassion, and is believed to have miraculous powers.\" \\n}'"
      ]
     },
     "execution_count": 28,
     "metadata": {},
     "output_type": "execute_result"
    }
   ],
   "source": [
    "j_pipe.invoke(\"where did sai baba born, and who he is\")"
   ]
  },
  {
   "cell_type": "code",
   "execution_count": 29,
   "id": "5eaff453",
   "metadata": {},
   "outputs": [
    {
     "data": {
      "text/plain": [
       "{'birthdate': 'September 28, 1838',\n",
       " 'birthplace': 'Pathri, Maharashtra, India',\n",
       " 'about': \"Sai Baba was a spiritual leader and saint who is revered by both Hindus and Muslims. He is believed to have been born to Hindu parents, but was adopted and raised by a Muslim fakir. Sai Baba spent most of his life in Shirdi, a small town in Maharashtra, where he gained a large following due to his teachings and miracles. He is known for promoting religious harmony and for his message of love, compassion, and selfless service. Sai Baba's teachings and legacy continue to inspire millions of people around the world.\"}"
      ]
     },
     "execution_count": 29,
     "metadata": {},
     "output_type": "execute_result"
    }
   ],
   "source": [
    "j_pipe1.invoke(\"where did sai baba born, and who he is\")"
   ]
  },
  {
   "cell_type": "code",
   "execution_count": 30,
   "id": "d0c4804f",
   "metadata": {},
   "outputs": [
    {
     "data": {
      "text/plain": [
       "'\\n\\n{\\n  \"birthdate\": \"December 23, 1906\",\\n  \"birthplace\": \"Bridgwater, Somerset, England\"\\n}'"
      ]
     },
     "execution_count": 30,
     "metadata": {},
     "output_type": "execute_result"
    }
   ],
   "source": [
    "j_pipe.invoke(\"who invented the computer?\")"
   ]
  },
  {
   "cell_type": "code",
   "execution_count": 31,
   "id": "d3736f97-be97-4b6a-b7a6-94b008d3daf8",
   "metadata": {},
   "outputs": [],
   "source": [
    "json_prompt1=PromptTemplate.from_template(template=\"Return a JSON object with birthdate and birth country key that answers the following question:{question}\")"
   ]
  },
  {
   "cell_type": "code",
   "execution_count": 32,
   "id": "63e20e6c-863a-4f58-a8f2-04720e2c9183",
   "metadata": {},
   "outputs": [],
   "source": [
    "j_pipe2 = json_prompt1|model|json_parser"
   ]
  },
  {
   "cell_type": "code",
   "execution_count": 33,
   "id": "874211a7-69e3-4b58-8f25-f34826f5629d",
   "metadata": {},
   "outputs": [
    {
     "data": {
      "text/plain": [
       "{'birthdate': '17 September 1950', 'birth country': 'India'}"
      ]
     },
     "execution_count": 33,
     "metadata": {},
     "output_type": "execute_result"
    }
   ],
   "source": [
    "j_pipe2.invoke(\"where did Narendher Modi born\")"
   ]
  },
  {
   "cell_type": "code",
   "execution_count": 34,
   "id": "a8676d85-1cda-4755-ad94-b66b6ed6043f",
   "metadata": {},
   "outputs": [
    {
     "data": {
      "text/plain": [
       "{'birthdate': 'October 2, 1869', 'birth country': 'India'}"
      ]
     },
     "execution_count": 34,
     "metadata": {},
     "output_type": "execute_result"
    }
   ],
   "source": [
    "j_pipe2.invoke(\"where did M.K.Gandhi born provide me in json format\")"
   ]
  },
  {
   "cell_type": "code",
   "execution_count": 35,
   "id": "afe38b5d-df94-44e3-ba53-80709ef3a302",
   "metadata": {},
   "outputs": [],
   "source": [
    "json_prompt2=PromptTemplate.from_template(template=\"Return a JSON object with birthdate and birth city key that answers the following question:{question}\")"
   ]
  },
  {
   "cell_type": "code",
   "execution_count": 36,
   "id": "63a27727-ecc9-4419-8a5e-e7b171411284",
   "metadata": {},
   "outputs": [],
   "source": [
    "j_pipe3 = json_prompt2|model|json_parser"
   ]
  },
  {
   "cell_type": "code",
   "execution_count": 37,
   "id": "c69c2731-1178-4733-98a6-ed6252f1592c",
   "metadata": {},
   "outputs": [
    {
     "data": {
      "text/plain": [
       "{'birthdate': 'October 2, 1869', 'birth city': 'Porbandar, Gujarat, India'}"
      ]
     },
     "execution_count": 37,
     "metadata": {},
     "output_type": "execute_result"
    }
   ],
   "source": [
    "j_pipe3.invoke(\"where did M.K.Gandhi born provide me in json format\")"
   ]
  },
  {
   "cell_type": "code",
   "execution_count": 38,
   "id": "03315495-9a26-4d47-9a54-d7c463fde4d9",
   "metadata": {},
   "outputs": [],
   "source": [
    "r1=j_pipe3.invoke(\"where did M.K.Gandhi born provide me in json format\")"
   ]
  },
  {
   "cell_type": "code",
   "execution_count": 39,
   "id": "ecae9d5d-8c46-4bbb-a4b9-495602429f74",
   "metadata": {},
   "outputs": [
    {
     "data": {
      "text/plain": [
       "dict"
      ]
     },
     "execution_count": 39,
     "metadata": {},
     "output_type": "execute_result"
    }
   ],
   "source": [
    "type(r1)"
   ]
  },
  {
   "cell_type": "code",
   "execution_count": 40,
   "id": "66098808-1166-4f25-b3b1-2e57d0350783",
   "metadata": {},
   "outputs": [
    {
     "data": {
      "text/plain": [
       "{'birthdate': 'October 2, 1869', 'birth city': 'Porbandar, Gujarat, India'}"
      ]
     },
     "execution_count": 40,
     "metadata": {},
     "output_type": "execute_result"
    }
   ],
   "source": [
    "r1"
   ]
  },
  {
   "cell_type": "code",
   "execution_count": 41,
   "id": "7cf8024c-d022-4dc3-8bb5-0069859b6b6a",
   "metadata": {},
   "outputs": [
    {
     "name": "stdout",
     "output_type": "stream",
     "text": [
      "India\n"
     ]
    }
   ],
   "source": [
    "if len(r1[\"birth city\"].split()) == 3:\n",
    "    print(r1[\"birth city\"].split()[2])"
   ]
  },
  {
   "cell_type": "code",
   "execution_count": 42,
   "id": "10af8c5e-baba-4484-8656-a0cd96f6f0c3",
   "metadata": {},
   "outputs": [],
   "source": [
    "from langchain.output_parsers import CommaSeparatedListOutputParser"
   ]
  },
  {
   "cell_type": "code",
   "execution_count": 43,
   "id": "676d0b88-b81d-4b1b-a78a-168f00dbc146",
   "metadata": {},
   "outputs": [],
   "source": [
    "output_parser = CommaSeparatedListOutputParser()"
   ]
  },
  {
   "cell_type": "code",
   "execution_count": 44,
   "id": "52ee09ba-a780-4db6-a210-b6806eaf03b4",
   "metadata": {},
   "outputs": [],
   "source": [
    "format_instructions = output_parser.get_format_instructions()"
   ]
  },
  {
   "cell_type": "code",
   "execution_count": 45,
   "id": "aec55c63-df15-4e34-ad6e-e5325038b819",
   "metadata": {},
   "outputs": [],
   "source": [
    "prompt = PromptTemplate(\n",
    "template=\"List five {subject}.\\n{format_instructions}\",\n",
    "input_variables=[\"subject\"],\n",
    "partial_variables={\"format_instructions\": format_instructions}\n",
    ")"
   ]
  },
  {
   "cell_type": "code",
   "execution_count": 46,
   "id": "135d98e3-83d1-42aa-af9a-0bb075ff6ac9",
   "metadata": {},
   "outputs": [],
   "source": [
    "query = \"Indian Premier League Teams\""
   ]
  },
  {
   "cell_type": "code",
   "execution_count": 47,
   "id": "fb3d810b-aca2-479b-b6cc-36c7aff497cc",
   "metadata": {},
   "outputs": [
    {
     "name": "stderr",
     "output_type": "stream",
     "text": [
      "C:\\Users\\D MADHAN MOHAN\\AppData\\Local\\Temp\\ipykernel_19028\\3743035748.py:1: LangChainDeprecationWarning: The method `BaseLLM.__call__` was deprecated in langchain-core 0.1.7 and will be removed in 1.0. Use :meth:`~invoke` instead.\n",
      "  output = model(prompt.format(subject=query))\n"
     ]
    }
   ],
   "source": [
    "output = model(prompt.format(subject=query))"
   ]
  },
  {
   "cell_type": "code",
   "execution_count": 48,
   "id": "07d90a33-3d30-4af9-b988-78bf74d2b74a",
   "metadata": {},
   "outputs": [
    {
     "data": {
      "text/plain": [
       "'\\n\\nMumbai Indians, Delhi Capitals, Chennai Super Kings, Kolkata Knight Riders, Sunrisers Hyderabad'"
      ]
     },
     "execution_count": 48,
     "metadata": {},
     "output_type": "execute_result"
    }
   ],
   "source": [
    "output"
   ]
  },
  {
   "cell_type": "code",
   "execution_count": 49,
   "id": "bcd5fdc2-5e4a-458c-a5ee-ce5a79aae6d4",
   "metadata": {},
   "outputs": [],
   "source": [
    "parsed_result = output_parser.parse(output)\n"
   ]
  },
  {
   "cell_type": "code",
   "execution_count": 50,
   "id": "d0be82cf-2271-43f5-9ca5-d850b9de87e2",
   "metadata": {},
   "outputs": [
    {
     "data": {
      "text/plain": [
       "['Mumbai Indians',\n",
       " 'Delhi Capitals',\n",
       " 'Chennai Super Kings',\n",
       " 'Kolkata Knight Riders',\n",
       " 'Sunrisers Hyderabad']"
      ]
     },
     "execution_count": 50,
     "metadata": {},
     "output_type": "execute_result"
    }
   ],
   "source": [
    "parsed_result"
   ]
  },
  {
   "cell_type": "code",
   "execution_count": 51,
   "id": "ad064350-3eed-49f1-b126-c3e720db8e2c",
   "metadata": {},
   "outputs": [],
   "source": [
    "query = \"Top 5 populated cities in India\""
   ]
  },
  {
   "cell_type": "code",
   "execution_count": 52,
   "id": "d95b114a-c9ea-4d27-ab45-941be05c225d",
   "metadata": {},
   "outputs": [],
   "source": [
    "output = model(prompt.format(subject=query))"
   ]
  },
  {
   "cell_type": "code",
   "execution_count": 53,
   "id": "002f2897-57e4-4e42-b0d6-a0bea07e4538",
   "metadata": {},
   "outputs": [
    {
     "data": {
      "text/plain": [
       "'\\n\\nMumbai, Delhi, Bangalore, Hyderabad, Ahmedabad'"
      ]
     },
     "execution_count": 53,
     "metadata": {},
     "output_type": "execute_result"
    }
   ],
   "source": [
    "output"
   ]
  },
  {
   "cell_type": "code",
   "execution_count": 54,
   "id": "d9b9a8e4-6e72-40dd-9af4-60af8b80829c",
   "metadata": {},
   "outputs": [],
   "source": [
    "parsed_result = output_parser.parse(output)"
   ]
  },
  {
   "cell_type": "code",
   "execution_count": 55,
   "id": "9c7f0f01-31fd-49c0-98fd-f4284bd6594e",
   "metadata": {},
   "outputs": [
    {
     "data": {
      "text/plain": [
       "['Mumbai', 'Delhi', 'Bangalore', 'Hyderabad', 'Ahmedabad']"
      ]
     },
     "execution_count": 55,
     "metadata": {},
     "output_type": "execute_result"
    }
   ],
   "source": [
    "parsed_result"
   ]
  },
  {
   "cell_type": "code",
   "execution_count": 56,
   "id": "6fc9ea9b-9449-482d-a9f8-4ae2915b0a13",
   "metadata": {},
   "outputs": [],
   "source": [
    "# top most populated cities in the world\n",
    "# top most visited tourist places in India\n",
    "# top most visited tourist places in the world\n",
    "# top most snowfall places in india\n",
    "# top most difficult entrance exams in india\n",
    "# top most educated cities in india"
   ]
  },
  {
   "cell_type": "code",
   "execution_count": 57,
   "id": "c0436dd5-5848-4d4d-ace7-ae7be2c2e690",
   "metadata": {},
   "outputs": [
    {
     "name": "stdout",
     "output_type": "stream",
     "text": [
      "aiohappyeyeballs==2.4.3\n",
      "aiohttp==3.10.10\n",
      "aiosignal==1.3.1\n",
      "annotated-types==0.7.0\n",
      "anyio==4.6.2.post1\n",
      "asttokens==2.4.1\n",
      "attrs==24.2.0\n",
      "beautifulsoup4==4.12.3\n",
      "blinker==1.9.0\n",
      "certifi==2024.8.30\n",
      "charset-normalizer==3.4.0\n",
      "click==8.1.7\n",
      "colorama==0.4.6\n",
      "comm==0.2.2\n",
      "dataclasses-json==0.6.7\n",
      "debugpy==1.8.8\n",
      "decorator==5.1.1\n",
      "Deprecated==1.2.14\n",
      "dirtyjson==1.0.8\n",
      "distro==1.9.0\n",
      "executing==2.1.0\n",
      "filetype==1.2.0\n",
      "Flask==3.1.0\n",
      "fpdf==1.7.2\n",
      "frozenlist==1.5.0\n",
      "fsspec==2024.10.0\n",
      "git-lfs==1.6\n",
      "greenlet==3.1.1\n",
      "h11==0.14.0\n",
      "httpcore==1.0.6\n",
      "httpx==0.27.2\n",
      "httpx-sse==0.4.0\n",
      "idna==3.10\n",
      "ipykernel==6.29.5\n",
      "ipython==8.29.0\n",
      "itsdangerous==2.2.0\n",
      "jedi==0.19.2\n",
      "Jinja2==3.1.4\n",
      "jiter==0.7.0\n",
      "joblib==1.4.2\n",
      "jsonify==0.5\n",
      "jsonpatch==1.33\n",
      "jsonpointer==3.0.0\n",
      "jupyter_client==8.6.3\n",
      "jupyter_core==5.7.2\n",
      "langchain==0.3.7\n",
      "langchain-community==0.3.7\n",
      "langchain-core==0.3.18\n",
      "langchain-text-splitters==0.3.2\n",
      "langsmith==0.1.143\n",
      "llama-cloud==0.1.4\n",
      "llama-index==0.11.22\n",
      "llama-index-agent-openai==0.3.4\n",
      "llama-index-cli==0.3.1\n",
      "llama-index-core==0.11.23\n",
      "llama-index-embeddings-openai==0.2.5\n",
      "llama-index-indices-managed-llama-cloud==0.4.0\n",
      "llama-index-legacy==0.9.48.post4\n",
      "llama-index-llms-openai==0.2.16\n",
      "llama-index-multi-modal-llms-openai==0.2.3\n",
      "llama-index-program-openai==0.2.0\n",
      "llama-index-question-gen-openai==0.2.0\n",
      "llama-index-readers-file==0.2.2\n",
      "llama-index-readers-llama-parse==0.3.0\n",
      "llama-parse==0.5.13\n",
      "MarkupSafe==3.0.2\n",
      "marshmallow==3.23.1\n",
      "matplotlib-inline==0.1.7\n",
      "multidict==6.1.0\n",
      "mypy-extensions==1.0.0\n",
      "nest-asyncio==1.6.0\n",
      "networkx==3.4.2\n",
      "nltk==3.9.1\n",
      "numpy==2.1.3\n",
      "openai==1.54.3\n",
      "orjson==3.10.11\n",
      "packaging==24.2\n",
      "pandas==2.2.3\n",
      "parso==0.8.4\n",
      "pillow==11.0.0\n",
      "platformdirs==4.3.6\n",
      "prompt_toolkit==3.0.48\n",
      "propcache==0.2.0\n",
      "psutil==6.1.0\n",
      "pure_eval==0.2.3\n",
      "pydantic==2.9.2\n",
      "pydantic-settings==2.6.1\n",
      "pydantic_core==2.23.4\n",
      "pygame==2.6.1\n",
      "Pygments==2.18.0\n",
      "pypdf==4.3.1\n",
      "python-dateutil==2.9.0.post0\n",
      "python-dotenv==1.0.1\n",
      "pytz==2024.2\n",
      "pywin32==308\n",
      "PyYAML==6.0.2\n",
      "pyzmq==26.2.0\n",
      "regex==2024.11.6\n",
      "requests==2.32.3\n",
      "requests-toolbelt==1.0.0\n",
      "six==1.16.0\n",
      "sniffio==1.3.1\n",
      "soupsieve==2.6\n",
      "SQLAlchemy==2.0.35\n",
      "stack-data==0.6.3\n",
      "striprtf==0.0.26\n",
      "tenacity==8.5.0\n",
      "tiktoken==0.8.0\n",
      "tornado==6.4.1\n",
      "tqdm==4.67.0\n",
      "traitlets==5.14.3\n",
      "typing-inspect==0.9.0\n",
      "typing_extensions==4.12.2\n",
      "tzdata==2024.2\n",
      "urllib3==2.2.3\n",
      "wcwidth==0.2.13\n",
      "Werkzeug==3.1.3\n",
      "wrapt==1.16.0\n",
      "yarl==1.17.1\n"
     ]
    }
   ],
   "source": [
    "!pip freeze"
   ]
  },
  {
   "cell_type": "code",
   "execution_count": null,
   "id": "219b0d91-4878-4a5f-abf4-96b59d7ee781",
   "metadata": {},
   "outputs": [],
   "source": []
  }
 ],
 "metadata": {
  "kernelspec": {
   "display_name": "Python 3",
   "language": "python",
   "name": "python3"
  },
  "language_info": {
   "codemirror_mode": {
    "name": "ipython",
    "version": 3
   },
   "file_extension": ".py",
   "mimetype": "text/x-python",
   "name": "python",
   "nbconvert_exporter": "python",
   "pygments_lexer": "ipython3",
   "version": "3.11.5"
  }
 },
 "nbformat": 4,
 "nbformat_minor": 5
}
