{
 "cells": [
  {
   "cell_type": "markdown",
   "id": "ba08efed-9774-483a-9343-de715f956669",
   "metadata": {},
   "source": [
    "# Insallting llama index packages"
   ]
  },
  {
   "cell_type": "code",
   "execution_count": 1,
   "id": "68913c49-94b9-40c6-82da-aa3da486a4e0",
   "metadata": {},
   "outputs": [
    {
     "name": "stdout",
     "output_type": "stream",
     "text": [
      "Requirement already satisfied: llama-index in c:\\users\\janardhan\\anaconda3\\lib\\site-packages (0.11.9)\n",
      "Requirement already satisfied: llama-index-agent-openai<0.4.0,>=0.3.1 in c:\\users\\janardhan\\anaconda3\\lib\\site-packages (from llama-index) (0.3.1)\n",
      "Requirement already satisfied: llama-index-cli<0.4.0,>=0.3.1 in c:\\users\\janardhan\\anaconda3\\lib\\site-packages (from llama-index) (0.3.1)\n",
      "Requirement already satisfied: llama-index-core<0.12.0,>=0.11.9 in c:\\users\\janardhan\\anaconda3\\lib\\site-packages (from llama-index) (0.11.9)\n",
      "Requirement already satisfied: llama-index-embeddings-openai<0.3.0,>=0.2.4 in c:\\users\\janardhan\\anaconda3\\lib\\site-packages (from llama-index) (0.2.4)\n",
      "Requirement already satisfied: llama-index-indices-managed-llama-cloud>=0.3.0 in c:\\users\\janardhan\\anaconda3\\lib\\site-packages (from llama-index) (0.3.0)\n",
      "Requirement already satisfied: llama-index-legacy<0.10.0,>=0.9.48 in c:\\users\\janardhan\\anaconda3\\lib\\site-packages (from llama-index) (0.9.48.post3)\n",
      "Requirement already satisfied: llama-index-llms-openai<0.3.0,>=0.2.3 in c:\\users\\janardhan\\anaconda3\\lib\\site-packages (from llama-index) (0.2.5)\n",
      "Requirement already satisfied: llama-index-multi-modal-llms-openai<0.3.0,>=0.2.0 in c:\\users\\janardhan\\anaconda3\\lib\\site-packages (from llama-index) (0.2.0)\n",
      "Requirement already satisfied: llama-index-program-openai<0.3.0,>=0.2.0 in c:\\users\\janardhan\\anaconda3\\lib\\site-packages (from llama-index) (0.2.0)\n",
      "Requirement already satisfied: llama-index-question-gen-openai<0.3.0,>=0.2.0 in c:\\users\\janardhan\\anaconda3\\lib\\site-packages (from llama-index) (0.2.0)\n",
      "Requirement already satisfied: llama-index-readers-file<0.3.0,>=0.2.0 in c:\\users\\janardhan\\anaconda3\\lib\\site-packages (from llama-index) (0.2.1)\n",
      "Requirement already satisfied: llama-index-readers-llama-parse>=0.3.0 in c:\\users\\janardhan\\anaconda3\\lib\\site-packages (from llama-index) (0.3.0)\n",
      "Requirement already satisfied: nltk>3.8.1 in c:\\users\\janardhan\\anaconda3\\lib\\site-packages (from llama-index) (3.9.1)\n",
      "Requirement already satisfied: openai>=1.14.0 in c:\\users\\janardhan\\anaconda3\\lib\\site-packages (from llama-index-agent-openai<0.4.0,>=0.3.1->llama-index) (1.45.0)\n",
      "Requirement already satisfied: PyYAML>=6.0.1 in c:\\users\\janardhan\\anaconda3\\lib\\site-packages (from llama-index-core<0.12.0,>=0.11.9->llama-index) (6.0.1)\n",
      "Requirement already satisfied: SQLAlchemy>=1.4.49 in c:\\users\\janardhan\\anaconda3\\lib\\site-packages (from SQLAlchemy[asyncio]>=1.4.49->llama-index-core<0.12.0,>=0.11.9->llama-index) (2.0.25)\n",
      "Requirement already satisfied: aiohttp<4.0.0,>=3.8.6 in c:\\users\\janardhan\\anaconda3\\lib\\site-packages (from llama-index-core<0.12.0,>=0.11.9->llama-index) (3.9.3)\n",
      "Requirement already satisfied: dataclasses-json in c:\\users\\janardhan\\anaconda3\\lib\\site-packages (from llama-index-core<0.12.0,>=0.11.9->llama-index) (0.6.7)\n",
      "Requirement already satisfied: deprecated>=1.2.9.3 in c:\\users\\janardhan\\anaconda3\\lib\\site-packages (from llama-index-core<0.12.0,>=0.11.9->llama-index) (1.2.14)\n",
      "Requirement already satisfied: dirtyjson<2.0.0,>=1.0.8 in c:\\users\\janardhan\\anaconda3\\lib\\site-packages (from llama-index-core<0.12.0,>=0.11.9->llama-index) (1.0.8)\n",
      "Requirement already satisfied: fsspec>=2023.5.0 in c:\\users\\janardhan\\anaconda3\\lib\\site-packages (from llama-index-core<0.12.0,>=0.11.9->llama-index) (2023.10.0)\n",
      "Requirement already satisfied: httpx in c:\\users\\janardhan\\anaconda3\\lib\\site-packages (from llama-index-core<0.12.0,>=0.11.9->llama-index) (0.27.0)\n",
      "Requirement already satisfied: nest-asyncio<2.0.0,>=1.5.8 in c:\\users\\janardhan\\anaconda3\\lib\\site-packages (from llama-index-core<0.12.0,>=0.11.9->llama-index) (1.6.0)\n",
      "Requirement already satisfied: networkx>=3.0 in c:\\users\\janardhan\\anaconda3\\lib\\site-packages (from llama-index-core<0.12.0,>=0.11.9->llama-index) (3.1)\n",
      "Requirement already satisfied: numpy<2.0.0 in c:\\users\\janardhan\\anaconda3\\lib\\site-packages (from llama-index-core<0.12.0,>=0.11.9->llama-index) (1.26.4)\n",
      "Requirement already satisfied: pillow>=9.0.0 in c:\\users\\janardhan\\anaconda3\\lib\\site-packages (from llama-index-core<0.12.0,>=0.11.9->llama-index) (10.2.0)\n",
      "Requirement already satisfied: pydantic<3.0.0,>=2.7.0 in c:\\users\\janardhan\\anaconda3\\lib\\site-packages (from llama-index-core<0.12.0,>=0.11.9->llama-index) (2.8.2)\n",
      "Requirement already satisfied: requests>=2.31.0 in c:\\users\\janardhan\\anaconda3\\lib\\site-packages (from llama-index-core<0.12.0,>=0.11.9->llama-index) (2.31.0)\n",
      "Requirement already satisfied: tenacity!=8.4.0,<9.0.0,>=8.2.0 in c:\\users\\janardhan\\anaconda3\\lib\\site-packages (from llama-index-core<0.12.0,>=0.11.9->llama-index) (8.2.2)\n",
      "Requirement already satisfied: tiktoken>=0.3.3 in c:\\users\\janardhan\\anaconda3\\lib\\site-packages (from llama-index-core<0.12.0,>=0.11.9->llama-index) (0.7.0)\n",
      "Requirement already satisfied: tqdm<5.0.0,>=4.66.1 in c:\\users\\janardhan\\anaconda3\\lib\\site-packages (from llama-index-core<0.12.0,>=0.11.9->llama-index) (4.66.5)\n",
      "Requirement already satisfied: typing-extensions>=4.5.0 in c:\\users\\janardhan\\anaconda3\\lib\\site-packages (from llama-index-core<0.12.0,>=0.11.9->llama-index) (4.12.2)\n",
      "Requirement already satisfied: typing-inspect>=0.8.0 in c:\\users\\janardhan\\anaconda3\\lib\\site-packages (from llama-index-core<0.12.0,>=0.11.9->llama-index) (0.9.0)\n",
      "Requirement already satisfied: wrapt in c:\\users\\janardhan\\anaconda3\\lib\\site-packages (from llama-index-core<0.12.0,>=0.11.9->llama-index) (1.14.1)\n",
      "Requirement already satisfied: llama-cloud>=0.0.11 in c:\\users\\janardhan\\anaconda3\\lib\\site-packages (from llama-index-indices-managed-llama-cloud>=0.3.0->llama-index) (0.0.17)\n",
      "Requirement already satisfied: pandas in c:\\users\\janardhan\\anaconda3\\lib\\site-packages (from llama-index-legacy<0.10.0,>=0.9.48->llama-index) (2.1.4)\n",
      "Requirement already satisfied: beautifulsoup4<5.0.0,>=4.12.3 in c:\\users\\janardhan\\anaconda3\\lib\\site-packages (from llama-index-readers-file<0.3.0,>=0.2.0->llama-index) (4.12.3)\n",
      "Requirement already satisfied: pypdf<5.0.0,>=4.0.1 in c:\\users\\janardhan\\anaconda3\\lib\\site-packages (from llama-index-readers-file<0.3.0,>=0.2.0->llama-index) (4.3.0)\n",
      "Requirement already satisfied: striprtf<0.0.27,>=0.0.26 in c:\\users\\janardhan\\anaconda3\\lib\\site-packages (from llama-index-readers-file<0.3.0,>=0.2.0->llama-index) (0.0.26)\n",
      "Requirement already satisfied: llama-parse>=0.5.0 in c:\\users\\janardhan\\anaconda3\\lib\\site-packages (from llama-index-readers-llama-parse>=0.3.0->llama-index) (0.5.5)\n",
      "Requirement already satisfied: click in c:\\users\\janardhan\\anaconda3\\lib\\site-packages (from nltk>3.8.1->llama-index) (8.1.7)\n",
      "Requirement already satisfied: joblib in c:\\users\\janardhan\\anaconda3\\lib\\site-packages (from nltk>3.8.1->llama-index) (1.2.0)\n",
      "Requirement already satisfied: regex>=2021.8.3 in c:\\users\\janardhan\\anaconda3\\lib\\site-packages (from nltk>3.8.1->llama-index) (2023.10.3)\n",
      "Requirement already satisfied: aiosignal>=1.1.2 in c:\\users\\janardhan\\anaconda3\\lib\\site-packages (from aiohttp<4.0.0,>=3.8.6->llama-index-core<0.12.0,>=0.11.9->llama-index) (1.2.0)\n",
      "Requirement already satisfied: attrs>=17.3.0 in c:\\users\\janardhan\\anaconda3\\lib\\site-packages (from aiohttp<4.0.0,>=3.8.6->llama-index-core<0.12.0,>=0.11.9->llama-index) (23.1.0)\n",
      "Requirement already satisfied: frozenlist>=1.1.1 in c:\\users\\janardhan\\anaconda3\\lib\\site-packages (from aiohttp<4.0.0,>=3.8.6->llama-index-core<0.12.0,>=0.11.9->llama-index) (1.4.0)\n",
      "Requirement already satisfied: multidict<7.0,>=4.5 in c:\\users\\janardhan\\anaconda3\\lib\\site-packages (from aiohttp<4.0.0,>=3.8.6->llama-index-core<0.12.0,>=0.11.9->llama-index) (6.0.4)\n",
      "Requirement already satisfied: yarl<2.0,>=1.0 in c:\\users\\janardhan\\anaconda3\\lib\\site-packages (from aiohttp<4.0.0,>=3.8.6->llama-index-core<0.12.0,>=0.11.9->llama-index) (1.9.3)\n",
      "Requirement already satisfied: soupsieve>1.2 in c:\\users\\janardhan\\anaconda3\\lib\\site-packages (from beautifulsoup4<5.0.0,>=4.12.3->llama-index-readers-file<0.3.0,>=0.2.0->llama-index) (2.5)\n",
      "Requirement already satisfied: anyio in c:\\users\\janardhan\\anaconda3\\lib\\site-packages (from httpx->llama-index-core<0.12.0,>=0.11.9->llama-index) (4.2.0)\n",
      "Requirement already satisfied: certifi in c:\\users\\janardhan\\anaconda3\\lib\\site-packages (from httpx->llama-index-core<0.12.0,>=0.11.9->llama-index) (2024.2.2)\n",
      "Requirement already satisfied: httpcore==1.* in c:\\users\\janardhan\\anaconda3\\lib\\site-packages (from httpx->llama-index-core<0.12.0,>=0.11.9->llama-index) (1.0.5)\n",
      "Requirement already satisfied: idna in c:\\users\\janardhan\\anaconda3\\lib\\site-packages (from httpx->llama-index-core<0.12.0,>=0.11.9->llama-index) (3.4)\n",
      "Requirement already satisfied: sniffio in c:\\users\\janardhan\\anaconda3\\lib\\site-packages (from httpx->llama-index-core<0.12.0,>=0.11.9->llama-index) (1.3.0)\n",
      "Requirement already satisfied: h11<0.15,>=0.13 in c:\\users\\janardhan\\anaconda3\\lib\\site-packages (from httpcore==1.*->httpx->llama-index-core<0.12.0,>=0.11.9->llama-index) (0.14.0)\n",
      "Requirement already satisfied: distro<2,>=1.7.0 in c:\\users\\janardhan\\anaconda3\\lib\\site-packages (from openai>=1.14.0->llama-index-agent-openai<0.4.0,>=0.3.1->llama-index) (1.8.0)\n",
      "Requirement already satisfied: jiter<1,>=0.4.0 in c:\\users\\janardhan\\anaconda3\\lib\\site-packages (from openai>=1.14.0->llama-index-agent-openai<0.4.0,>=0.3.1->llama-index) (0.5.0)\n",
      "Requirement already satisfied: annotated-types>=0.4.0 in c:\\users\\janardhan\\anaconda3\\lib\\site-packages (from pydantic<3.0.0,>=2.7.0->llama-index-core<0.12.0,>=0.11.9->llama-index) (0.7.0)\n",
      "Requirement already satisfied: pydantic-core==2.20.1 in c:\\users\\janardhan\\anaconda3\\lib\\site-packages (from pydantic<3.0.0,>=2.7.0->llama-index-core<0.12.0,>=0.11.9->llama-index) (2.20.1)\n",
      "Requirement already satisfied: charset-normalizer<4,>=2 in c:\\users\\janardhan\\anaconda3\\lib\\site-packages (from requests>=2.31.0->llama-index-core<0.12.0,>=0.11.9->llama-index) (3.3.2)\n",
      "Requirement already satisfied: urllib3<3,>=1.21.1 in c:\\users\\janardhan\\anaconda3\\lib\\site-packages (from requests>=2.31.0->llama-index-core<0.12.0,>=0.11.9->llama-index) (2.0.7)\n",
      "Requirement already satisfied: greenlet!=0.4.17 in c:\\users\\janardhan\\anaconda3\\lib\\site-packages (from SQLAlchemy>=1.4.49->SQLAlchemy[asyncio]>=1.4.49->llama-index-core<0.12.0,>=0.11.9->llama-index) (3.0.1)\n",
      "Requirement already satisfied: colorama in c:\\users\\janardhan\\anaconda3\\lib\\site-packages (from tqdm<5.0.0,>=4.66.1->llama-index-core<0.12.0,>=0.11.9->llama-index) (0.4.6)\n",
      "Requirement already satisfied: mypy-extensions>=0.3.0 in c:\\users\\janardhan\\anaconda3\\lib\\site-packages (from typing-inspect>=0.8.0->llama-index-core<0.12.0,>=0.11.9->llama-index) (1.0.0)\n",
      "Requirement already satisfied: marshmallow<4.0.0,>=3.18.0 in c:\\users\\janardhan\\anaconda3\\lib\\site-packages (from dataclasses-json->llama-index-core<0.12.0,>=0.11.9->llama-index) (3.21.3)\n",
      "Requirement already satisfied: python-dateutil>=2.8.2 in c:\\users\\janardhan\\anaconda3\\lib\\site-packages (from pandas->llama-index-legacy<0.10.0,>=0.9.48->llama-index) (2.8.2)\n",
      "Requirement already satisfied: pytz>=2020.1 in c:\\users\\janardhan\\anaconda3\\lib\\site-packages (from pandas->llama-index-legacy<0.10.0,>=0.9.48->llama-index) (2023.3.post1)\n",
      "Requirement already satisfied: tzdata>=2022.1 in c:\\users\\janardhan\\anaconda3\\lib\\site-packages (from pandas->llama-index-legacy<0.10.0,>=0.9.48->llama-index) (2023.3)\n",
      "Requirement already satisfied: packaging>=17.0 in c:\\users\\janardhan\\anaconda3\\lib\\site-packages (from marshmallow<4.0.0,>=3.18.0->dataclasses-json->llama-index-core<0.12.0,>=0.11.9->llama-index) (24.1)\n",
      "Requirement already satisfied: six>=1.5 in c:\\users\\janardhan\\anaconda3\\lib\\site-packages (from python-dateutil>=2.8.2->pandas->llama-index-legacy<0.10.0,>=0.9.48->llama-index) (1.16.0)\n"
     ]
    }
   ],
   "source": [
    "!pip install llama-index"
   ]
  },
  {
   "cell_type": "markdown",
   "id": "2a474780-6301-4a25-9c4d-c2bfe4a01ab6",
   "metadata": {},
   "source": [
    "# Setting up OPEN AI API KEY in the environment"
   ]
  },
  {
   "cell_type": "code",
   "execution_count": 1,
   "id": "ced266f4-f35b-46a2-8538-f877d6959967",
   "metadata": {},
   "outputs": [],
   "source": [
    "import os\n",
    "#os.environ[\"OPENAI_API_KEY\"]=\"\"\n",
    "os.environ[\"OPENAI_API_KEY\"]= \"YOUR_API_KEY\" # replace with your api key"
   ]
  },
  {
   "cell_type": "markdown",
   "id": "3788ed30-552f-4ddc-89e3-9e4c3e006435",
   "metadata": {},
   "source": [
    "# Setting up original document path"
   ]
  },
  {
   "cell_type": "code",
   "execution_count": 2,
   "id": "fc376e71-9ff3-4ca8-99c2-617fc4589e8e",
   "metadata": {},
   "outputs": [],
   "source": [
    "f_path=\"pdf_data/alice-in-wonderland.pdf\""
   ]
  },
  {
   "cell_type": "code",
   "execution_count": 3,
   "id": "7b1fee67-be39-4755-8ffd-86f3067b1a1e",
   "metadata": {},
   "outputs": [],
   "source": [
    "from llama_index.core import SimpleDirectoryReader\n",
    "reader=SimpleDirectoryReader(input_files=[f_path])\n"
   ]
  },
  {
   "cell_type": "markdown",
   "id": "451e5632-1ccb-4b81-92a8-2078e975fbd4",
   "metadata": {},
   "source": [
    "# loading documents "
   ]
  },
  {
   "cell_type": "code",
   "execution_count": 4,
   "id": "4ad1c516-7fc5-4902-b8ef-9da20037539e",
   "metadata": {},
   "outputs": [],
   "source": [
    "pdf_documents = reader.load_data()"
   ]
  },
  {
   "cell_type": "markdown",
   "id": "0e156ff0-b3d6-4576-902c-9400ba9af1a7",
   "metadata": {},
   "source": [
    "# setting up index"
   ]
  },
  {
   "cell_type": "code",
   "execution_count": 5,
   "id": "a1061021-b6a1-4158-ac8b-8ea655067461",
   "metadata": {},
   "outputs": [],
   "source": [
    "from llama_index.core import VectorStoreIndex"
   ]
  },
  {
   "cell_type": "code",
   "execution_count": 6,
   "id": "4df427fd-17bb-41ea-948a-fb36000fce2a",
   "metadata": {},
   "outputs": [],
   "source": [
    "index = VectorStoreIndex.from_documents(pdf_documents)"
   ]
  },
  {
   "cell_type": "markdown",
   "id": "7dfedf9e-7353-4a5f-91ff-fdc4e6a63acb",
   "metadata": {},
   "source": [
    "# setting up query engine"
   ]
  },
  {
   "cell_type": "code",
   "execution_count": 7,
   "id": "ca02f35d-aa9d-4c5b-9f39-f48970e2ae6e",
   "metadata": {},
   "outputs": [],
   "source": [
    "query_engine = index.as_query_engine()\n",
    "\n"
   ]
  },
  {
   "cell_type": "markdown",
   "id": "c482f2a9-b42b-4f77-b8b8-aca5f882947d",
   "metadata": {},
   "source": [
    "# asking question"
   ]
  },
  {
   "cell_type": "code",
   "execution_count": 8,
   "id": "2b40b2c9-980d-457b-a40c-c95c68664920",
   "metadata": {},
   "outputs": [
    {
     "name": "stdout",
     "output_type": "stream",
     "text": [
      "Alice went to Wonderland.\n"
     ]
    }
   ],
   "source": [
    "response = query_engine.query(\"where did alice go?\")\n",
    "print(response)"
   ]
  },
  {
   "cell_type": "code",
   "execution_count": 9,
   "id": "cfb8ed33-4b02-43ad-ad25-ae02ca746e99",
   "metadata": {},
   "outputs": [
    {
     "name": "stdout",
     "output_type": "stream",
     "text": [
      "Alice explored various things during her adventures.\n"
     ]
    }
   ],
   "source": [
    "response = query_engine.query(\"what are the things Alice explored?\")\n",
    "print(response)"
   ]
  },
  {
   "cell_type": "code",
   "execution_count": 10,
   "id": "6db5206f-1b59-464d-a2cf-3ff163a0b7d7",
   "metadata": {},
   "outputs": [
    {
     "name": "stdout",
     "output_type": "stream",
     "text": [
      "Alice returned by retracing her steps back the way she came.\n"
     ]
    }
   ],
   "source": [
    "response = query_engine.query(\"how did Alice returned\")\n",
    "print(response)"
   ]
  },
  {
   "cell_type": "markdown",
   "id": "4b91ec5b",
   "metadata": {},
   "source": [
    "# My Quries"
   ]
  },
  {
   "cell_type": "code",
   "execution_count": 11,
   "id": "d2b57d69-297b-4fb2-9c86-f4b4bfcd42d7",
   "metadata": {},
   "outputs": [
    {
     "name": "stdout",
     "output_type": "stream",
     "text": [
      "Alice explored by venturing through the pages of the PDF file \"alice-in-wonderland.pdf\" and navigating to page 18 and then to page 19.\n"
     ]
    }
   ],
   "source": [
    "response = query_engine.query(\"how did Alice explored?\")\n",
    "print(response)"
   ]
  },
  {
   "cell_type": "code",
   "execution_count": 12,
   "id": "5da67dd6",
   "metadata": {},
   "outputs": [
    {
     "name": "stdout",
     "output_type": "stream",
     "text": [
      "Alice explores a fantastical world filled with peculiar characters and embarks on various adventures.\n"
     ]
    }
   ],
   "source": [
    "response = query_engine.query(\"What does Alice do in the story?\")\n",
    "print(response)"
   ]
  },
  {
   "cell_type": "code",
   "execution_count": 13,
   "id": "adae5bac",
   "metadata": {},
   "outputs": [
    {
     "name": "stdout",
     "output_type": "stream",
     "text": [
      "The Caterpillar told Alice to keep her temper.\n"
     ]
    }
   ],
   "source": [
    "response = query_engine.query(\"What did the Caterpillar tell Alice to do?\")\n",
    "print(response)"
   ]
  },
  {
   "cell_type": "code",
   "execution_count": 14,
   "id": "c6dda3c2",
   "metadata": {},
   "outputs": [
    {
     "name": "stdout",
     "output_type": "stream",
     "text": [
      "The Caterpillar called Alice back to engage in a conversation about her identity and to challenge her perspective on the world.\n"
     ]
    }
   ],
   "source": [
    "response = query_engine.query(\"Why did the Caterpillar call ALice back?\")\n",
    "print(response)"
   ]
  },
  {
   "cell_type": "code",
   "execution_count": 17,
   "id": "1816e0ab",
   "metadata": {},
   "outputs": [
    {
     "name": "stdout",
     "output_type": "stream",
     "text": [
      "The bird called Alice \"serpent.\"\n"
     ]
    }
   ],
   "source": [
    "response = query_engine.query(\"What did the bird call ALice?\")\n",
    "print(response)"
   ]
  }
 ],
 "metadata": {
  "kernelspec": {
   "display_name": "Python 3",
   "language": "python",
   "name": "python3"
  },
  "language_info": {
   "codemirror_mode": {
    "name": "ipython",
    "version": 3
   },
   "file_extension": ".py",
   "mimetype": "text/x-python",
   "name": "python",
   "nbconvert_exporter": "python",
   "pygments_lexer": "ipython3",
   "version": "3.11.5"
  }
 },
 "nbformat": 4,
 "nbformat_minor": 5
}
