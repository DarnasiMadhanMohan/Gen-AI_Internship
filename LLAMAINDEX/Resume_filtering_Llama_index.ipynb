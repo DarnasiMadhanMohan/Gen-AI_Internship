{
 "cells": [
  {
   "cell_type": "markdown",
   "id": "b8cf4967-7435-4ba8-8196-2f4614a40be3",
   "metadata": {},
   "source": [
    "# save key in environmental varaible  "
   ]
  },
  {
   "cell_type": "code",
   "execution_count": 11,
   "id": "cb487736-fce8-4aae-b173-c0369d386ed8",
   "metadata": {},
   "outputs": [],
   "source": [
    "import os\n",
    "#os.environ[\"OPENAI_API_KEY\"]=\"\"\n",
    "os.environ[\"OPENAI_API_KEY\"]=\"YOUR_API_KEY\"  # Replace with your OpenAI API key"
   ]
  },
  {
   "cell_type": "markdown",
   "id": "c167c43b-9fe2-4744-9fd6-0a1ff54d03b4",
   "metadata": {},
   "source": [
    "# Load documents"
   ]
  },
  {
   "cell_type": "code",
   "execution_count": 12,
   "id": "df553993-0bfa-491c-920d-6c4df45c941d",
   "metadata": {},
   "outputs": [],
   "source": [
    "from llama_index.core import SimpleDirectoryReader"
   ]
  },
  {
   "cell_type": "code",
   "execution_count": 13,
   "id": "366fa8cd-3e99-4a4b-a0ea-44c489307c9b",
   "metadata": {},
   "outputs": [],
   "source": [
    "documents = SimpleDirectoryReader(\"reactsjsresumes\",recursive=True).load_data()"
   ]
  },
  {
   "cell_type": "markdown",
   "id": "3e2f608a-1b9d-4241-ac1c-6c26b73ef2ce",
   "metadata": {},
   "source": [
    "# Create a vector index"
   ]
  },
  {
   "cell_type": "code",
   "execution_count": 14,
   "id": "d402c3e2-b4df-4985-a079-4b574a38f372",
   "metadata": {},
   "outputs": [],
   "source": [
    "from llama_index.core import VectorStoreIndex"
   ]
  },
  {
   "cell_type": "code",
   "execution_count": 15,
   "id": "c261dabd-330c-40cd-88ff-73651e50b1bc",
   "metadata": {},
   "outputs": [],
   "source": [
    "index = VectorStoreIndex.from_documents(documents)"
   ]
  },
  {
   "cell_type": "markdown",
   "id": "1edeac00-dfa4-4c3b-b110-9395cec7b952",
   "metadata": {},
   "source": [
    "# create an engine"
   ]
  },
  {
   "cell_type": "code",
   "execution_count": 16,
   "id": "7b3cb004-8da7-45a7-9c7f-0668fd274670",
   "metadata": {},
   "outputs": [],
   "source": [
    "query_engine = index.as_query_engine(similarity_top_k=25)"
   ]
  },
  {
   "cell_type": "markdown",
   "id": "015b386b-3d6b-452f-a778-8993638cb567",
   "metadata": {},
   "source": [
    "# form a query and ask a query"
   ]
  },
  {
   "cell_type": "code",
   "execution_count": 17,
   "id": "4a83b6cf-8eac-438e-b5a4-d375a9bc24cb",
   "metadata": {},
   "outputs": [],
   "source": [
    "response = query_engine.query(\"provide me names all people\")\n"
   ]
  },
  {
   "cell_type": "code",
   "execution_count": 18,
   "id": "7466553f-64de-490a-b7f1-d5ebb6b94c9e",
   "metadata": {},
   "outputs": [
    {
     "data": {
      "text/plain": [
       "'Batchu NagaSanthi Sri, maheen M ERN stock developer, Giribabu Annareddi, Kartheek Annapareddy, Harsha Vardhan Korimilli.'"
      ]
     },
     "execution_count": 18,
     "metadata": {},
     "output_type": "execute_result"
    }
   ],
   "source": [
    "response.response"
   ]
  },
  {
   "cell_type": "code",
   "execution_count": 19,
   "id": "04692bf2-6068-4e33-952e-15e1cef967c6",
   "metadata": {},
   "outputs": [],
   "source": [
    "response = query_engine.query(\"as a HR analyst, provide me technical skills list Chris is having\")"
   ]
  },
  {
   "cell_type": "code",
   "execution_count": 20,
   "id": "131ed414-d2c3-49ac-a103-19279173203d",
   "metadata": {},
   "outputs": [
    {
     "data": {
      "text/plain": [
       "'HTML, CSS, JavaScript, React JS'"
      ]
     },
     "execution_count": 20,
     "metadata": {},
     "output_type": "execute_result"
    }
   ],
   "source": [
    "response.response"
   ]
  },
  {
   "cell_type": "code",
   "execution_count": 21,
   "id": "771497c6-c3a6-4ffb-ac75-8239c2dfd1a6",
   "metadata": {},
   "outputs": [
    {
     "name": "stdout",
     "output_type": "stream",
     "text": [
      "Sasi Institute of Technology and Engineering\n"
     ]
    }
   ],
   "source": [
    "response = query_engine.query(\"as a HR analyst, provide me college name Alice studied\")\n",
    "print(response.response)"
   ]
  },
  {
   "cell_type": "code",
   "execution_count": 22,
   "id": "60d59f18-ad76-418d-bda0-7c3b5496e7d3",
   "metadata": {},
   "outputs": [
    {
     "name": "stdout",
     "output_type": "stream",
     "text": [
      "The individuals mentioned in the provided context have educational backgrounds in various fields. Some have completed their B-Tech degrees, while others have pursued education in areas like Mechanical Engineering, ECE, and Computer Science. The educational qualifications range from SSC to B-Tech degrees, with details such as CGPA and completion years provided for each individual.\n"
     ]
    }
   ],
   "source": [
    "response = query_engine.query(\"as a HR analyst, provide me education of all people\")\n",
    "print(response.response)"
   ]
  },
  {
   "cell_type": "code",
   "execution_count": 23,
   "id": "19744c8f-da19-4a8f-ae5c-8a4d816fa6ca",
   "metadata": {},
   "outputs": [
    {
     "name": "stdout",
     "output_type": "stream",
     "text": [
      "Giribabu Annareddi and Kartheek Annapareddy are individuals who have Python programming skills.\n"
     ]
    }
   ],
   "source": [
    "response = query_engine.query(\"as a HR analyst, provide me list of people who are having python programming skill\")\n",
    "print(response.response)"
   ]
  },
  {
   "cell_type": "code",
   "execution_count": 24,
   "id": "fc0e9676-7d86-4d00-a783-19ca9b0eaaea",
   "metadata": {},
   "outputs": [
    {
     "name": "stdout",
     "output_type": "stream",
     "text": [
      "Jane's name is Batchu NagaSanthi Sri, her father's name is Batchu Subramanayeswara Rao, she was born on 16-02-2002, she is Indian, her height is 5.2, weight is 45, she knows English and Telugu languages, she is single, her hobbies include listening to music and watching TV, and she enjoys playing Kabaddi.\n"
     ]
    }
   ],
   "source": [
    "response = query_engine.query(\"as a HR analyst, give me the details of Jane\")\n",
    "print(response.response)"
   ]
  },
  {
   "cell_type": "code",
   "execution_count": 25,
   "id": "e87240c0",
   "metadata": {},
   "outputs": [
    {
     "name": "stdout",
     "output_type": "stream",
     "text": [
      "Sasi Institute of Technology and Engineering, Sri Chaitanya Junior College, Sri Chaitanya Techno School, Sri Vasavi Institute of Engineering, JNTUK Guntur Engineering College, Ujwala Junior College, SVL Kranthi Degree College, SVL Kranthi Junior College, Narayana Techno School, Diviseema Polytechnic, Seshadri Rao Gudlavalleru Engineering College.\n"
     ]
    }
   ],
   "source": [
    "response = query_engine.query(\"as a HR analyst, provide me where all people are graduated from\")\n",
    "print(response.response)"
   ]
  },
  {
   "cell_type": "code",
   "execution_count": 26,
   "id": "f48c26d6",
   "metadata": {},
   "outputs": [
    {
     "name": "stdout",
     "output_type": "stream",
     "text": [
      "As a HR analyst, you can view the educational backgrounds of individuals from the resumes provided.\n"
     ]
    }
   ],
   "source": [
    "response = query_engine.query(\"as a HR analyst, I want to be able to view all people where they have educated from\")\n",
    "print(response.response)"
   ]
  }
 ],
 "metadata": {
  "kernelspec": {
   "display_name": "Python 3",
   "language": "python",
   "name": "python3"
  },
  "language_info": {
   "codemirror_mode": {
    "name": "ipython",
    "version": 3
   },
   "file_extension": ".py",
   "mimetype": "text/x-python",
   "name": "python",
   "nbconvert_exporter": "python",
   "pygments_lexer": "ipython3",
   "version": "3.11.5"
  }
 },
 "nbformat": 4,
 "nbformat_minor": 5
}
