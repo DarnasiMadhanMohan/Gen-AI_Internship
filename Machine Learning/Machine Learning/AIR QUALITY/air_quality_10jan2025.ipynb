{
 "cells": [
  {
   "cell_type": "code",
   "execution_count": 1,
   "id": "549c843b-e28c-441c-a7ac-00d1f61a74c5",
   "metadata": {},
   "outputs": [],
   "source": [
    "#https://www.kaggle.com/datasets/mujtabamatin/air-quality-and-pollution-assessment"
   ]
  },
  {
   "cell_type": "code",
   "execution_count": 2,
   "id": "b330080b-22c8-4943-bb76-b43613c7ae95",
   "metadata": {},
   "outputs": [],
   "source": [
    "import pandas as pd"
   ]
  },
  {
   "cell_type": "code",
   "execution_count": 3,
   "id": "03dbc123-5769-41b0-af0c-cf1c849c70ee",
   "metadata": {},
   "outputs": [],
   "source": [
    "df=pd.read_csv(\"updated_pollution_dataset.csv\")"
   ]
  },
  {
   "cell_type": "code",
   "execution_count": 4,
   "id": "1be67fe4-d6ff-41bc-8081-38df53943f3b",
   "metadata": {},
   "outputs": [
    {
     "data": {
      "text/plain": [
       "(5000, 10)"
      ]
     },
     "execution_count": 4,
     "metadata": {},
     "output_type": "execute_result"
    }
   ],
   "source": [
    "df.shape"
   ]
  },
  {
   "cell_type": "code",
   "execution_count": 5,
   "id": "20fd4f4d-f0bb-46bd-bfeb-a678c3be3e91",
   "metadata": {},
   "outputs": [
    {
     "data": {
      "text/plain": [
       "Index(['Temperature', 'Humidity', 'PM2.5', 'PM10', 'NO2', 'SO2', 'CO',\n",
       "       'Proximity_to_Industrial_Areas', 'Population_Density', 'Air Quality'],\n",
       "      dtype='object')"
      ]
     },
     "execution_count": 5,
     "metadata": {},
     "output_type": "execute_result"
    }
   ],
   "source": [
    "df.columns"
   ]
  },
  {
   "cell_type": "code",
   "execution_count": 6,
   "id": "191e2310-c0ce-4765-95dd-de45d3ef70dc",
   "metadata": {},
   "outputs": [
    {
     "data": {
      "text/plain": [
       "Temperature                      0\n",
       "Humidity                         0\n",
       "PM2.5                            0\n",
       "PM10                             0\n",
       "NO2                              0\n",
       "SO2                              0\n",
       "CO                               0\n",
       "Proximity_to_Industrial_Areas    0\n",
       "Population_Density               0\n",
       "Air Quality                      0\n",
       "dtype: int64"
      ]
     },
     "execution_count": 6,
     "metadata": {},
     "output_type": "execute_result"
    }
   ],
   "source": [
    "df.isnull().sum()"
   ]
  },
  {
   "cell_type": "code",
   "execution_count": 7,
   "id": "220fa3d8-9227-4419-b2e6-1fbdb9a9d8b3",
   "metadata": {},
   "outputs": [],
   "source": [
    "from scipy.stats import f_oneway"
   ]
  },
  {
   "cell_type": "code",
   "execution_count": 8,
   "id": "9bf8130c-2a56-4d0f-b974-393116c76d24",
   "metadata": {},
   "outputs": [
    {
     "name": "stdout",
     "output_type": "stream",
     "text": [
      "column : Temperature, F-statistic: 2191.9374022972033, P-value: 0.0\n",
      "column : Humidity, F-statistic: 1071.2805847369366, P-value: 0.0\n",
      "column : PM2.5, F-statistic: 354.8001717963518, P-value: 6.991035853584263e-209\n",
      "column : PM10, F-statistic: 745.4262411714283, P-value: 0.0\n",
      "column : NO2, F-statistic: 2676.2159089566176, P-value: 0.0\n",
      "column : SO2, F-statistic: 2018.304415432383, P-value: 0.0\n",
      "column : CO, F-statistic: 8292.518513696, P-value: 0.0\n",
      "column : Proximity_to_Industrial_Areas, F-statistic: 3714.945062564165, P-value: 0.0\n",
      "column : Population_Density, F-statistic: 1189.932964847901, P-value: 0.0\n"
     ]
    }
   ],
   "source": [
    "df_cat=df.copy()\n",
    "c_list=[]\n",
    "nc_list=[]\n",
    "for c1 in list(df_cat.columns):\n",
    "    if c1 == 'Air Quality':\n",
    "        continue\n",
    "    else:\n",
    "        groups = [df_cat[c1][df_cat['Air Quality'] == category] for category in df_cat['Air Quality'].unique()]\n",
    "        f_stat, p_value = f_oneway(*groups)\n",
    "        print(f\"column : {c1}, F-statistic: {f_stat}, P-value: {p_value}\")\n",
    "        if p_value < 0.05:\n",
    "            c_list.append(c1)\n",
    "        else:\n",
    "            nc_list.append(c1)"
   ]
  },
  {
   "cell_type": "code",
   "execution_count": 9,
   "id": "41760459-13d1-4ea3-afaf-4ecfd657148c",
   "metadata": {},
   "outputs": [],
   "source": [
    "df_num = df.select_dtypes(include=['float64', 'int64'])\n",
    "df_cat = df.select_dtypes(include=['object'])"
   ]
  },
  {
   "cell_type": "code",
   "execution_count": 13,
   "id": "70aa99c2",
   "metadata": {},
   "outputs": [
    {
     "data": {
      "text/plain": [
       "Index(['Temperature', 'Humidity', 'PM2.5', 'PM10', 'NO2', 'SO2', 'CO',\n",
       "       'Proximity_to_Industrial_Areas', 'Population_Density'],\n",
       "      dtype='object')"
      ]
     },
     "execution_count": 13,
     "metadata": {},
     "output_type": "execute_result"
    }
   ],
   "source": [
    "df_num.columns"
   ]
  },
  {
   "cell_type": "code",
   "execution_count": 14,
   "id": "83999d29",
   "metadata": {},
   "outputs": [
    {
     "data": {
      "text/plain": [
       "Index(['Air Quality'], dtype='object')"
      ]
     },
     "execution_count": 14,
     "metadata": {},
     "output_type": "execute_result"
    }
   ],
   "source": [
    "df_cat.columns"
   ]
  },
  {
   "cell_type": "code",
   "execution_count": 12,
   "id": "da046ef5",
   "metadata": {},
   "outputs": [],
   "source": [
    "def remove_outliers_iqr(df, columns):\n",
    "    for col in columns:\n",
    "        Q1 = df[col].quantile(0.25)  # First quartile (25th percentile)\n",
    "        Q3 = df[col].quantile(0.75)  # Third quartile (75th percentile)\n",
    "        IQR = Q3 - Q1               # Interquartile range\n",
    "        lower_bound = Q1 - 1.5 * IQR  # Lower bound\n",
    "        upper_bound = Q3 + 1.5 * IQR  # Upper bound\n",
    "\n",
    "        # Remove outliers\n",
    "        df = df[(df[col] >= lower_bound) & (df[col] <= upper_bound)]\n",
    "    \n",
    "    return df"
   ]
  },
  {
   "cell_type": "code",
   "execution_count": 15,
   "id": "4845f146",
   "metadata": {},
   "outputs": [
    {
     "name": "stdout",
     "output_type": "stream",
     "text": [
      "Original DataFrame:\n",
      "(5000, 9)\n",
      "\n",
      "DataFrame after Outlier Treatment:\n",
      "(4158, 9)\n"
     ]
    }
   ],
   "source": [
    "\n",
    "columns_to_check = ['Temperature', 'Humidity', 'PM2.5', 'PM10', 'NO2', 'SO2', 'CO',\n",
    "       'Proximity_to_Industrial_Areas', 'Population_Density'] \n",
    "\n",
    "df_no_outliers = remove_outliers_iqr(df_num, columns_to_check)\n",
    "\n",
    "print(\"Original DataFrame:\")\n",
    "print(df_num.shape)\n",
    "print(\"\\nDataFrame after Outlier Treatment:\")\n",
    "print(df_no_outliers.shape)"
   ]
  },
  {
   "cell_type": "code",
   "execution_count": 17,
   "id": "03cf6e99",
   "metadata": {},
   "outputs": [
    {
     "data": {
      "text/plain": [
       "(5000, 13)"
      ]
     },
     "execution_count": 17,
     "metadata": {},
     "output_type": "execute_result"
    }
   ],
   "source": [
    "# Encode categorical variables\n",
    "encoded_df = pd.get_dummies(df, columns=['Air Quality'])\n",
    "\n",
    "# Check the shape of the encoded dataframe\n",
    "encoded_df.shape"
   ]
  },
  {
   "cell_type": "code",
   "execution_count": 18,
   "id": "9a5e86e9",
   "metadata": {},
   "outputs": [
    {
     "data": {
      "text/plain": [
       "(4158, 9)"
      ]
     },
     "execution_count": 18,
     "metadata": {},
     "output_type": "execute_result"
    }
   ],
   "source": [
    "df_no_outliers.shape"
   ]
  },
  {
   "cell_type": "markdown",
   "id": "d86611ca",
   "metadata": {},
   "source": [
    "# min max scale"
   ]
  },
  {
   "cell_type": "code",
   "execution_count": 19,
   "id": "b5befc1a",
   "metadata": {},
   "outputs": [],
   "source": [
    "from sklearn.preprocessing import StandardScaler, MinMaxScaler"
   ]
  },
  {
   "cell_type": "code",
   "execution_count": 20,
   "id": "5fb33381",
   "metadata": {},
   "outputs": [],
   "source": [
    "columns_to_scale = ['Temperature', 'Humidity', 'PM2.5', 'PM10', 'NO2', 'SO2', 'CO',\n",
    "       'Proximity_to_Industrial_Areas', 'Population_Density']"
   ]
  },
  {
   "cell_type": "code",
   "execution_count": 21,
   "id": "28dcb3b4",
   "metadata": {},
   "outputs": [],
   "source": [
    "minmax_scaler = MinMaxScaler()\n",
    "df_minmax_scaled = df_no_outliers.copy()\n",
    "df_minmax_scaled[columns_to_scale] = minmax_scaler.fit_transform(df_no_outliers[columns_to_scale])"
   ]
  },
  {
   "cell_type": "code",
   "execution_count": 22,
   "id": "f474a4f0",
   "metadata": {},
   "outputs": [
    {
     "data": {
      "text/html": [
       "<div>\n",
       "<style scoped>\n",
       "    .dataframe tbody tr th:only-of-type {\n",
       "        vertical-align: middle;\n",
       "    }\n",
       "\n",
       "    .dataframe tbody tr th {\n",
       "        vertical-align: top;\n",
       "    }\n",
       "\n",
       "    .dataframe thead th {\n",
       "        text-align: right;\n",
       "    }\n",
       "</style>\n",
       "<table border=\"1\" class=\"dataframe\">\n",
       "  <thead>\n",
       "    <tr style=\"text-align: right;\">\n",
       "      <th></th>\n",
       "      <th>Temperature</th>\n",
       "      <th>Humidity</th>\n",
       "      <th>PM2.5</th>\n",
       "      <th>PM10</th>\n",
       "      <th>NO2</th>\n",
       "      <th>SO2</th>\n",
       "      <th>CO</th>\n",
       "      <th>Proximity_to_Industrial_Areas</th>\n",
       "      <th>Population_Density</th>\n",
       "    </tr>\n",
       "  </thead>\n",
       "  <tbody>\n",
       "    <tr>\n",
       "      <th>0</th>\n",
       "      <td>0.483776</td>\n",
       "      <td>0.304749</td>\n",
       "      <td>0.091873</td>\n",
       "      <td>0.283255</td>\n",
       "      <td>0.292621</td>\n",
       "      <td>0.523810</td>\n",
       "      <td>0.540404</td>\n",
       "      <td>0.224852</td>\n",
       "      <td>0.194651</td>\n",
       "    </tr>\n",
       "    <tr>\n",
       "      <th>1</th>\n",
       "      <td>0.439528</td>\n",
       "      <td>0.522427</td>\n",
       "      <td>0.040636</td>\n",
       "      <td>0.194053</td>\n",
       "      <td>0.595420</td>\n",
       "      <td>0.540816</td>\n",
       "      <td>0.500000</td>\n",
       "      <td>0.207101</td>\n",
       "      <td>0.628529</td>\n",
       "    </tr>\n",
       "    <tr>\n",
       "      <th>2</th>\n",
       "      <td>0.286136</td>\n",
       "      <td>0.510554</td>\n",
       "      <td>0.471731</td>\n",
       "      <td>0.532081</td>\n",
       "      <td>0.432570</td>\n",
       "      <td>0.639456</td>\n",
       "      <td>0.494949</td>\n",
       "      <td>0.159763</td>\n",
       "      <td>0.640416</td>\n",
       "    </tr>\n",
       "    <tr>\n",
       "      <th>3</th>\n",
       "      <td>0.404130</td>\n",
       "      <td>0.040897</td>\n",
       "      <td>0.107774</td>\n",
       "      <td>0.101721</td>\n",
       "      <td>0.155216</td>\n",
       "      <td>0.391156</td>\n",
       "      <td>0.252525</td>\n",
       "      <td>0.508876</td>\n",
       "      <td>0.539376</td>\n",
       "    </tr>\n",
       "    <tr>\n",
       "      <th>4</th>\n",
       "      <td>0.386431</td>\n",
       "      <td>0.457784</td>\n",
       "      <td>0.121908</td>\n",
       "      <td>0.253521</td>\n",
       "      <td>0.368957</td>\n",
       "      <td>0.401361</td>\n",
       "      <td>0.181818</td>\n",
       "      <td>0.603550</td>\n",
       "      <td>0.170877</td>\n",
       "    </tr>\n",
       "  </tbody>\n",
       "</table>\n",
       "</div>"
      ],
      "text/plain": [
       "   Temperature  Humidity     PM2.5      PM10       NO2       SO2        CO  \\\n",
       "0     0.483776  0.304749  0.091873  0.283255  0.292621  0.523810  0.540404   \n",
       "1     0.439528  0.522427  0.040636  0.194053  0.595420  0.540816  0.500000   \n",
       "2     0.286136  0.510554  0.471731  0.532081  0.432570  0.639456  0.494949   \n",
       "3     0.404130  0.040897  0.107774  0.101721  0.155216  0.391156  0.252525   \n",
       "4     0.386431  0.457784  0.121908  0.253521  0.368957  0.401361  0.181818   \n",
       "\n",
       "   Proximity_to_Industrial_Areas  Population_Density  \n",
       "0                       0.224852            0.194651  \n",
       "1                       0.207101            0.628529  \n",
       "2                       0.159763            0.640416  \n",
       "3                       0.508876            0.539376  \n",
       "4                       0.603550            0.170877  "
      ]
     },
     "execution_count": 22,
     "metadata": {},
     "output_type": "execute_result"
    }
   ],
   "source": [
    "df_minmax_scaled.head()"
   ]
  },
  {
   "cell_type": "markdown",
   "id": "2d715f3a",
   "metadata": {},
   "source": [
    "it transforms the data so that it has a mean of 0 and a std of 1"
   ]
  },
  {
   "cell_type": "code",
   "execution_count": 23,
   "id": "fc6d4caf",
   "metadata": {},
   "outputs": [],
   "source": [
    "standard_scaler = StandardScaler()\n",
    "df_standard_scaled = df_no_outliers.copy()\n",
    "df_standard_scaled[columns_to_scale] = standard_scaler.fit_transform(df_no_outliers[columns_to_scale])"
   ]
  },
  {
   "cell_type": "code",
   "execution_count": 24,
   "id": "e83a8e01",
   "metadata": {},
   "outputs": [
    {
     "data": {
      "text/html": [
       "<div>\n",
       "<style scoped>\n",
       "    .dataframe tbody tr th:only-of-type {\n",
       "        vertical-align: middle;\n",
       "    }\n",
       "\n",
       "    .dataframe tbody tr th {\n",
       "        vertical-align: top;\n",
       "    }\n",
       "\n",
       "    .dataframe thead th {\n",
       "        text-align: right;\n",
       "    }\n",
       "</style>\n",
       "<table border=\"1\" class=\"dataframe\">\n",
       "  <thead>\n",
       "    <tr style=\"text-align: right;\">\n",
       "      <th></th>\n",
       "      <th>Temperature</th>\n",
       "      <th>Humidity</th>\n",
       "      <th>PM2.5</th>\n",
       "      <th>PM10</th>\n",
       "      <th>NO2</th>\n",
       "      <th>SO2</th>\n",
       "      <th>CO</th>\n",
       "      <th>Proximity_to_Industrial_Areas</th>\n",
       "      <th>Population_Density</th>\n",
       "    </tr>\n",
       "  </thead>\n",
       "  <tbody>\n",
       "    <tr>\n",
       "      <th>0</th>\n",
       "      <td>0.208528</td>\n",
       "      <td>-0.572424</td>\n",
       "      <td>-0.684376</td>\n",
       "      <td>-0.302789</td>\n",
       "      <td>-0.747481</td>\n",
       "      <td>0.155763</td>\n",
       "      <td>0.852370</td>\n",
       "      <td>-0.790460</td>\n",
       "      <td>-1.079606</td>\n",
       "    </tr>\n",
       "    <tr>\n",
       "      <th>1</th>\n",
       "      <td>-0.057517</td>\n",
       "      <td>0.557506</td>\n",
       "      <td>-0.924151</td>\n",
       "      <td>-0.708591</td>\n",
       "      <td>0.856706</td>\n",
       "      <td>0.255309</td>\n",
       "      <td>0.663646</td>\n",
       "      <td>-0.878203</td>\n",
       "      <td>1.008238</td>\n",
       "    </tr>\n",
       "    <tr>\n",
       "      <th>2</th>\n",
       "      <td>-0.979808</td>\n",
       "      <td>0.495873</td>\n",
       "      <td>1.093263</td>\n",
       "      <td>0.829185</td>\n",
       "      <td>-0.006050</td>\n",
       "      <td>0.832674</td>\n",
       "      <td>0.640056</td>\n",
       "      <td>-1.112184</td>\n",
       "      <td>1.065440</td>\n",
       "    </tr>\n",
       "    <tr>\n",
       "      <th>3</th>\n",
       "      <td>-0.270354</td>\n",
       "      <td>-1.942035</td>\n",
       "      <td>-0.609963</td>\n",
       "      <td>-1.128632</td>\n",
       "      <td>-1.475431</td>\n",
       "      <td>-0.620693</td>\n",
       "      <td>-0.492284</td>\n",
       "      <td>0.613427</td>\n",
       "      <td>0.579229</td>\n",
       "    </tr>\n",
       "    <tr>\n",
       "      <th>4</th>\n",
       "      <td>-0.376772</td>\n",
       "      <td>0.221951</td>\n",
       "      <td>-0.543819</td>\n",
       "      <td>-0.438056</td>\n",
       "      <td>-0.343064</td>\n",
       "      <td>-0.560965</td>\n",
       "      <td>-0.822550</td>\n",
       "      <td>1.081389</td>\n",
       "      <td>-1.194008</td>\n",
       "    </tr>\n",
       "  </tbody>\n",
       "</table>\n",
       "</div>"
      ],
      "text/plain": [
       "   Temperature  Humidity     PM2.5      PM10       NO2       SO2        CO  \\\n",
       "0     0.208528 -0.572424 -0.684376 -0.302789 -0.747481  0.155763  0.852370   \n",
       "1    -0.057517  0.557506 -0.924151 -0.708591  0.856706  0.255309  0.663646   \n",
       "2    -0.979808  0.495873  1.093263  0.829185 -0.006050  0.832674  0.640056   \n",
       "3    -0.270354 -1.942035 -0.609963 -1.128632 -1.475431 -0.620693 -0.492284   \n",
       "4    -0.376772  0.221951 -0.543819 -0.438056 -0.343064 -0.560965 -0.822550   \n",
       "\n",
       "   Proximity_to_Industrial_Areas  Population_Density  \n",
       "0                      -0.790460           -1.079606  \n",
       "1                      -0.878203            1.008238  \n",
       "2                      -1.112184            1.065440  \n",
       "3                       0.613427            0.579229  \n",
       "4                       1.081389           -1.194008  "
      ]
     },
     "execution_count": 24,
     "metadata": {},
     "output_type": "execute_result"
    }
   ],
   "source": [
    "df_standard_scaled.head()"
   ]
  },
  {
   "cell_type": "code",
   "execution_count": 25,
   "id": "90ca50a8",
   "metadata": {},
   "outputs": [],
   "source": [
    "final_df = pd.concat([df_standard_scaled, encoded_df], axis=1)"
   ]
  },
  {
   "cell_type": "code",
   "execution_count": 26,
   "id": "b249445d",
   "metadata": {},
   "outputs": [
    {
     "data": {
      "text/plain": [
       "(5000, 22)"
      ]
     },
     "execution_count": 26,
     "metadata": {},
     "output_type": "execute_result"
    }
   ],
   "source": [
    "final_df.shape"
   ]
  },
  {
   "cell_type": "code",
   "execution_count": 27,
   "id": "9093c5b8",
   "metadata": {},
   "outputs": [
    {
     "data": {
      "text/plain": [
       "Index(['Temperature', 'Humidity', 'PM2.5', 'PM10', 'NO2', 'SO2', 'CO',\n",
       "       'Proximity_to_Industrial_Areas', 'Population_Density', 'Temperature',\n",
       "       'Humidity', 'PM2.5', 'PM10', 'NO2', 'SO2', 'CO',\n",
       "       'Proximity_to_Industrial_Areas', 'Population_Density',\n",
       "       'Air Quality_Good', 'Air Quality_Hazardous', 'Air Quality_Moderate',\n",
       "       'Air Quality_Poor'],\n",
       "      dtype='object')"
      ]
     },
     "execution_count": 27,
     "metadata": {},
     "output_type": "execute_result"
    }
   ],
   "source": [
    "final_df.columns"
   ]
  },
  {
   "cell_type": "code",
   "execution_count": null,
   "id": "b09ff4e4",
   "metadata": {},
   "outputs": [],
   "source": []
  }
 ],
 "metadata": {
  "kernelspec": {
   "display_name": "Python 3",
   "language": "python",
   "name": "python3"
  },
  "language_info": {
   "codemirror_mode": {
    "name": "ipython",
    "version": 3
   },
   "file_extension": ".py",
   "mimetype": "text/x-python",
   "name": "python",
   "nbconvert_exporter": "python",
   "pygments_lexer": "ipython3",
   "version": "3.11.5"
  }
 },
 "nbformat": 4,
 "nbformat_minor": 5
}
