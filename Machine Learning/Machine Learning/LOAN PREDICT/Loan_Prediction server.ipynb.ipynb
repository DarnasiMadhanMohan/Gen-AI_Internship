{
 "cells": [
  {
   "cell_type": "code",
   "execution_count": 1,
   "id": "f81df8ab-95c9-4746-bea0-14a0c8d6486a",
   "metadata": {},
   "outputs": [],
   "source": [
    "import os\n",
    "os.environ['GIT_PYTHON_REFRESH']='quiet'\n",
    "os.environ['MLFLOW_TRACKING_URI']='file:///C:/Users/D MADHAN MOHAN/Documents/ML FLOW'"
   ]
  },
  {
   "cell_type": "code",
   "execution_count": 2,
   "id": "fedd7b14-0d1f-4b17-be6e-7b3700d108bb",
   "metadata": {},
   "outputs": [
    {
     "name": "stdout",
     "output_type": "stream",
     "text": [
      "                             run_id       experiment_id    status  \\\n",
      "0  8cd3f28c117a40a5b8c4e4714eab9a7a  486218261331919663  FINISHED   \n",
      "1  08bd1733ae374358a59802f18179b77a  686551247452664132  FINISHED   \n",
      "2  ca3e6707bac841b0a53f0a839d235905  686551247452664132  FINISHED   \n",
      "3  ad47d77457314cd49f8213fb67acd3dd  352759639174559897  FINISHED   \n",
      "4  ba8819bfa7dc4e8e9939c734f2b63405  159740958921666960  FINISHED   \n",
      "\n",
      "                                        artifact_uri  \\\n",
      "0  file:///C:/Users/D MADHAN MOHAN/Documents/ML F...   \n",
      "1  file:///C:/Users/D MADHAN MOHAN/Documents/ML F...   \n",
      "2  file:///C:/Users/D MADHAN MOHAN/Documents/ML F...   \n",
      "3  file:///C:/Users/D MADHAN MOHAN/Documents/ML F...   \n",
      "4  file:///C:/Users/D MADHAN MOHAN/Documents/ML F...   \n",
      "\n",
      "                        start_time                         end_time  \\\n",
      "0 2025-02-01 03:59:50.312000+00:00 2025-02-01 04:01:31.962000+00:00   \n",
      "1 2025-01-31 05:09:27.696000+00:00 2025-01-31 05:09:43.505000+00:00   \n",
      "2 2025-01-31 05:07:28.185000+00:00 2025-01-31 05:07:42.974000+00:00   \n",
      "3 2025-01-31 03:40:57.567000+00:00 2025-01-31 04:48:43.919000+00:00   \n",
      "4 2025-01-31 03:30:39.657000+00:00 2025-01-31 03:31:01.174000+00:00   \n",
      "\n",
      "   metrics.rf_testing_score  metrics.rf_training_score  \\\n",
      "0                  0.828865                   0.829054   \n",
      "1                  1.000000                   1.000000   \n",
      "2                  1.000000                   1.000000   \n",
      "3                  0.999483                   0.999409   \n",
      "4                  1.000000                   1.000000   \n",
      "\n",
      "   metrics.gbm_testing_score  metrics.gbm_training_score  ...  \\\n",
      "0                   0.812892                    0.993886  ...   \n",
      "1                   1.000000                    1.000000  ...   \n",
      "2                   1.000000                    1.000000  ...   \n",
      "3                   0.999678                    1.000000  ...   \n",
      "4                   1.000000                    1.000000  ...   \n",
      "\n",
      "  params.n_estimators params.gbm_n_estimators  tags.mlflow.runName  \\\n",
      "0                5000                    3000      gifted-shad-537   \n",
      "1                5000                    3000     puzzled-seal-428   \n",
      "2                5000                    3000  treasured-robin-754   \n",
      "3                5000                    3000     dazzling-cub-456   \n",
      "4                5000                    3000     dazzling-auk-243   \n",
      "\n",
      "                             tags.mlflow.source.name tags.iteration_name  \\\n",
      "0  C:\\Users\\D MADHAN MOHAN\\AppData\\Roaming\\Python...  test_rf_gb_sklearn   \n",
      "1  c:\\Users\\D MADHAN MOHAN\\Downloads\\diabetes_pre...  test_rf_gb_sklearn   \n",
      "2  c:\\Users\\D MADHAN MOHAN\\Downloads\\diabetes_pre...  test_rf_gb_sklearn   \n",
      "3  C:\\Users\\D MADHAN MOHAN\\AppData\\Roaming\\Python...  test_rf_gb_sklearn   \n",
      "4  C:\\Users\\D MADHAN MOHAN\\AppData\\Roaming\\Python...  test_rf_gb_sklearn   \n",
      "\n",
      "  tags.mlflow.user tags.feature_set_version  \\\n",
      "0   D MADHAN MOHAN             loan default   \n",
      "1   D MADHAN MOHAN             loan default   \n",
      "2   D MADHAN MOHAN             loan default   \n",
      "3   D MADHAN MOHAN             loan default   \n",
      "4   D MADHAN MOHAN             loan default   \n",
      "\n",
      "              tags.mlflow.source.git.commit  \\\n",
      "0  05148e830cd89b884bf04198e9b4900f0a3e3641   \n",
      "1  05148e830cd89b884bf04198e9b4900f0a3e3641   \n",
      "2  05148e830cd89b884bf04198e9b4900f0a3e3641   \n",
      "3  05148e830cd89b884bf04198e9b4900f0a3e3641   \n",
      "4  05148e830cd89b884bf04198e9b4900f0a3e3641   \n",
      "\n",
      "                       tags.mlflow.log-model.history tags.mlflow.source.type  \n",
      "0  [{\"run_id\": \"8cd3f28c117a40a5b8c4e4714eab9a7a\"...                   LOCAL  \n",
      "1  [{\"run_id\": \"08bd1733ae374358a59802f18179b77a\"...                   LOCAL  \n",
      "2  [{\"run_id\": \"ca3e6707bac841b0a53f0a839d235905\"...                   LOCAL  \n",
      "3  [{\"run_id\": \"ad47d77457314cd49f8213fb67acd3dd\"...                   LOCAL  \n",
      "4  [{\"run_id\": \"ba8819bfa7dc4e8e9939c734f2b63405\"...                   LOCAL  \n",
      "\n",
      "[5 rows x 24 columns]\n"
     ]
    }
   ],
   "source": [
    "import mlflow\n",
    "\n",
    "all_runs = mlflow.search_runs(search_all_experiments=True)\n",
    "print(all_runs)"
   ]
  },
  {
   "cell_type": "code",
   "execution_count": null,
   "id": "fd2df1c1-ee44-4dd9-be30-66d42ece55f9",
   "metadata": {},
   "outputs": [
    {
     "name": "stdout",
     "output_type": "stream",
     "text": [
      "^C\n"
     ]
    }
   ],
   "source": [
    "!mlflow models serve -p 8002 -m runs:/8cd3f28c117a40a5b8c4e4714eab9a7a/random-forest-model  --no-conda"
   ]
  },
  {
   "cell_type": "code",
   "execution_count": null,
   "id": "97e67295-a29d-4e9c-8baf-20acb2ba062b",
   "metadata": {},
   "outputs": [],
   "source": []
  }
 ],
 "metadata": {
  "kernelspec": {
   "display_name": "Python 3",
   "language": "python",
   "name": "python3"
  },
  "language_info": {
   "codemirror_mode": {
    "name": "ipython",
    "version": 3
   },
   "file_extension": ".py",
   "mimetype": "text/x-python",
   "name": "python",
   "nbconvert_exporter": "python",
   "pygments_lexer": "ipython3",
   "version": "3.11.5"
  }
 },
 "nbformat": 4,
 "nbformat_minor": 5
}
