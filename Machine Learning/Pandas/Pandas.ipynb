{
 "cells": [
  {
   "cell_type": "markdown",
   "metadata": {},
   "source": [
    "# Importing Required Libraries"
   ]
  },
  {
   "cell_type": "code",
   "execution_count": 1,
   "metadata": {},
   "outputs": [],
   "source": [
    "import pandas as pd"
   ]
  },
  {
   "cell_type": "markdown",
   "metadata": {},
   "source": [
    "# Load Dataset"
   ]
  },
  {
   "cell_type": "code",
   "execution_count": 2,
   "metadata": {},
   "outputs": [],
   "source": [
    "data = pd.read_excel('global_superstore/Global Superstore.xls')"
   ]
  },
  {
   "cell_type": "markdown",
   "metadata": {},
   "source": [
    "# Analyzing the Dataset"
   ]
  },
  {
   "cell_type": "markdown",
   "metadata": {},
   "source": [
    "1. `loc` **and** `idxmin/idxmax`: Used to find the rows corresponding to minimum/maximum values.\n",
    "2. `groupby`: Groups the data based on a column to calculate aggregate statistics (like sum, mean, etc.).\n",
    "3. `nunique`: Counts the number of unique values in a column.\n",
    "4. `value_counts`: Used to find the most frequent value in a column.\n",
    "5. `to_dict`: Converts a pandas series or dataframe row to a dictionary for better readability.\n",
    "6. **Chained methods**: Methods like `.sum()`, `.mean()`, or `.idxmax()` are applied on the grouped data to compute the required metrics."
   ]
  },
  {
   "cell_type": "markdown",
   "metadata": {},
   "source": [
    "1. ***Finding the City with Minimum Profit***"
   ]
  },
  {
   "cell_type": "code",
   "execution_count": 4,
   "metadata": {},
   "outputs": [
    {
     "name": "stdout",
     "output_type": "stream",
     "text": [
      "1. City with minimum profit: Lancaster\n"
     ]
    }
   ],
   "source": [
    "# 1. Find out which city is having minimum profit\n",
    "# Using idxmin() to find the index of the row with the minimum profit, then extracting the city name from that row\n",
    "min_profit_city = data.loc[data['Profit'].idxmin(), 'City']\n",
    "print(f\"1. City with minimum profit: {min_profit_city}\")"
   ]
  },
  {
   "cell_type": "markdown",
   "metadata": {},
   "source": [
    "* **Explanation**: Finds the row where `Profit` is minimum using `idxmin()` and retrieves the corresponding `City` value."
   ]
  },
  {
   "cell_type": "markdown",
   "metadata": {},
   "source": [
    "2. ***State with Maximum Profit***"
   ]
  },
  {
   "cell_type": "code",
   "execution_count": 5,
   "metadata": {},
   "outputs": [
    {
     "name": "stdout",
     "output_type": "stream",
     "text": [
      "2. State with maximum profit: England\n"
     ]
    }
   ],
   "source": [
    "# 2. Which state is having maximum profit\n",
    "# Grouping data by 'State', summing the 'Profit' for each state, and identifying the state with the maximum profit\n",
    "max_profit_state = data.groupby('State')['Profit'].sum().idxmax()\n",
    "print(f\"2. State with maximum profit: {max_profit_state}\")"
   ]
  },
  {
   "cell_type": "markdown",
   "metadata": {},
   "source": [
    "* **Explanation**: Groups data by `State`, sums up the profits, and identifies the state with the maximum profit."
   ]
  },
  {
   "cell_type": "markdown",
   "metadata": {},
   "source": [
    "3. ***Segment with Maximum Sales***"
   ]
  },
  {
   "cell_type": "code",
   "execution_count": 6,
   "metadata": {},
   "outputs": [
    {
     "name": "stdout",
     "output_type": "stream",
     "text": [
      "3. Segment with maximum sales: Consumer\n"
     ]
    }
   ],
   "source": [
    "# 3. Which segment is having maximum sales\n",
    "# Grouping data by 'Segment', summing the 'Sales' for each segment, and identifying the segment with the maximum sales\n",
    "max_sales_segment = data.groupby('Segment')['Sales'].sum().idxmax()\n",
    "print(f\"3. Segment with maximum sales: {max_sales_segment}\")"
   ]
  },
  {
   "cell_type": "markdown",
   "metadata": {},
   "source": [
    "* Explanation: Groups data by `Segment`, calculates total `Sales` for each, and retrieves the segment with the highest sales."
   ]
  },
  {
   "cell_type": "markdown",
   "metadata": {},
   "source": [
    "4. ***Most Repetitive Customer***"
   ]
  },
  {
   "cell_type": "code",
   "execution_count": 7,
   "metadata": {},
   "outputs": [
    {
     "name": "stdout",
     "output_type": "stream",
     "text": [
      "4. Most repetitive customer: PO-18850\n"
     ]
    }
   ],
   "source": [
    "# 4. Who is the most repetitive customer\n",
    "# Using value_counts() to count the occurrences of each Customer ID and identifying the most frequent one\n",
    "most_repetitive_customer = data['Customer ID'].value_counts().idxmax()\n",
    "print(f\"4. Most repetitive customer: {most_repetitive_customer}\")"
   ]
  },
  {
   "cell_type": "markdown",
   "metadata": {},
   "source": [
    "* **Explanation**: Counts the occurrences of each customer ID and identifies the most frequent one."
   ]
  },
  {
   "cell_type": "markdown",
   "metadata": {},
   "source": [
    "5. ***Country with Minimum Shipping Cost***"
   ]
  },
  {
   "cell_type": "code",
   "execution_count": 8,
   "metadata": {},
   "outputs": [
    {
     "name": "stdout",
     "output_type": "stream",
     "text": [
      "5. Country with minimum shipping cost: Eritrea\n"
     ]
    }
   ],
   "source": [
    "# 5. Which country is having minimum shipping cost\n",
    "# Grouping data by 'Country', summing 'Shipping Cost' for each country, and finding the one with the minimum value\n",
    "min_shipping_cost_country = data.groupby('Country')['Shipping Cost'].sum().idxmin()\n",
    "print(f\"5. Country with minimum shipping cost: {min_shipping_cost_country}\")"
   ]
  },
  {
   "cell_type": "markdown",
   "metadata": {},
   "source": [
    "* **Explanation**: Groups data by `Country`, calculates total shipping costs, and identifies the country with the lowest value."
   ]
  },
  {
   "cell_type": "markdown",
   "metadata": {},
   "source": [
    "6. ***Segment with Minimum Shipping Cost***"
   ]
  },
  {
   "cell_type": "code",
   "execution_count": 9,
   "metadata": {},
   "outputs": [
    {
     "name": "stdout",
     "output_type": "stream",
     "text": [
      "6. Segment with maximum shipping cost: Consumer\n"
     ]
    }
   ],
   "source": [
    "# 6. Which segment is having maximum shipping cost\n",
    "# Grouping data by 'Segment', summing 'Shipping Cost' for each segment, and identifying the one with the maximum value\n",
    "max_shipping_cost_segment = data.groupby('Segment')['Shipping Cost'].sum().idxmax()\n",
    "print(f\"6. Segment with maximum shipping cost: {max_shipping_cost_segment}\")"
   ]
  },
  {
   "cell_type": "markdown",
   "metadata": {},
   "source": [
    "* **Explanation**: Groups data by `Segment`, calculates total shipping costs, and retrieves the segment with the maximum shipping cost."
   ]
  },
  {
   "cell_type": "markdown",
   "metadata": {},
   "source": [
    "7. ***Number of Distinct Categories***"
   ]
  },
  {
   "cell_type": "code",
   "execution_count": 10,
   "metadata": {},
   "outputs": [
    {
     "name": "stdout",
     "output_type": "stream",
     "text": [
      "7. Number of distinct categories: 3\n"
     ]
    }
   ],
   "source": [
    "# 7. How many distinct categories are we having?\n",
    "# Counting the unique values in the 'Category' column to determine the number of distinct categories\n",
    "distinct_categories = data['Category'].nunique()\n",
    "print(f\"7. Number of distinct categories: {distinct_categories}\")"
   ]
  },
  {
   "cell_type": "markdown",
   "metadata": {},
   "source": [
    "* **Explanation**: Counts the number of unique categories in the `Category` column."
   ]
  },
  {
   "cell_type": "markdown",
   "metadata": {},
   "source": [
    "8. ***Sub-Categories per Category***"
   ]
  },
  {
   "cell_type": "code",
   "execution_count": 11,
   "metadata": {},
   "outputs": [
    {
     "name": "stdout",
     "output_type": "stream",
     "text": [
      "8. Sub-categories per category:\n",
      "Category\n",
      "Furniture          4\n",
      "Office Supplies    9\n",
      "Technology         4\n",
      "Name: Sub-Category, dtype: int64\n"
     ]
    }
   ],
   "source": [
    "# 8. For each category, how many sub-categories are there?\n",
    "# Grouping data by 'Category' and counting the unique sub-categories for each category\n",
    "sub_categories_per_category = data.groupby('Category')['Sub-Category'].nunique()\n",
    "print(f\"8. Sub-categories per category:\\n{sub_categories_per_category}\")"
   ]
  },
  {
   "cell_type": "markdown",
   "metadata": {},
   "source": [
    "* **Explanation**: Groups data by `Category` and counts the unique `Sub-Category` values for each category."
   ]
  },
  {
   "cell_type": "markdown",
   "metadata": {},
   "source": [
    "9. ***Number of Regions***"
   ]
  },
  {
   "cell_type": "code",
   "execution_count": 12,
   "metadata": {},
   "outputs": [
    {
     "name": "stdout",
     "output_type": "stream",
     "text": [
      "9. Number of regions: 13\n"
     ]
    }
   ],
   "source": [
    "# 9. How many regions are there?\n",
    "# Counting the unique values in the 'Region' column to determine the number of distinct regions\n",
    "distinct_regions = data['Region'].nunique()\n",
    "print(f\"9. Number of regions: {distinct_regions}\")"
   ]
  },
  {
   "cell_type": "markdown",
   "metadata": {},
   "source": [
    "* **Explanation**: Counts the number of unique regions in the `Region` column."
   ]
  },
  {
   "cell_type": "markdown",
   "metadata": {},
   "source": [
    "10. ***Most Profitable Regions***"
   ]
  },
  {
   "cell_type": "code",
   "execution_count": 13,
   "metadata": {},
   "outputs": [
    {
     "name": "stdout",
     "output_type": "stream",
     "text": [
      "10. Most profitable region: Central\n"
     ]
    }
   ],
   "source": [
    "# 10. Which region is most profitable?\n",
    "# Grouping data by 'Region', summing 'Profit' for each region, and identifying the region with the maximum value\n",
    "most_profitable_region = data.groupby('Region')['Profit'].sum().idxmax()\n",
    "print(f\"10. Most profitable region: {most_profitable_region}\")"
   ]
  },
  {
   "cell_type": "markdown",
   "metadata": {},
   "source": [
    "11. ***Regions with Maximum Shipping Cost***"
   ]
  },
  {
   "cell_type": "code",
   "execution_count": 14,
   "metadata": {},
   "outputs": [
    {
     "name": "stdout",
     "output_type": "stream",
     "text": [
      "11. Region with maximum shipment cost: Central\n"
     ]
    }
   ],
   "source": [
    "# 11. Which region is having maximum shipment cost?\n",
    "# Grouping data by 'Region', summing 'Shipping Cost' for each region, and finding the region with the maximum value\n",
    "max_shipping_cost_region = data.groupby('Region')['Shipping Cost'].sum().idxmax()\n",
    "print(f\"11. Region with maximum shipment cost: {max_shipping_cost_region}\")"
   ]
  },
  {
   "cell_type": "markdown",
   "metadata": {},
   "source": [
    "* **Explanation**: Groups data by `Region` and identifies the region with the highest shipment cost."
   ]
  },
  {
   "cell_type": "markdown",
   "metadata": {},
   "source": [
    "12. ***Market with Minimum***\n",
    "13. ***Market with Maximum Sales***"
   ]
  },
  {
   "cell_type": "code",
   "execution_count": 15,
   "metadata": {},
   "outputs": [
    {
     "name": "stdout",
     "output_type": "stream",
     "text": [
      "12. Market with minimum sales: Canada\n",
      "13. Market with maximum sales: APAC\n"
     ]
    }
   ],
   "source": [
    "# 12. Which market is having minimum sales?\n",
    "# Grouping data by 'Market', summing 'Sales' for each market, and identifying the one with the minimum value\n",
    "min_sales_market = data.groupby('Market')['Sales'].sum().idxmin()\n",
    "\n",
    "# 13. Which market is having maximum sales?\n",
    "# Grouping data by 'Market', summing 'Sales' for each market, and finding the one with the maximum value\n",
    "max_sales_market = data.groupby('Market')['Sales'].sum().idxmax()\n",
    "print(f\"12. Market with minimum sales: {min_sales_market}\")\n",
    "print(f\"13. Market with maximum sales: {max_sales_market}\")"
   ]
  },
  {
   "cell_type": "markdown",
   "metadata": {},
   "source": [
    "* **Explanation**: Groups data by `Market`, calculates total sales, and retrieves the markets with minimum and maximum sales."
   ]
  },
  {
   "cell_type": "markdown",
   "metadata": {},
   "source": [
    "14. ***Regions with Maximum Discount***"
   ]
  },
  {
   "cell_type": "code",
   "execution_count": 16,
   "metadata": {},
   "outputs": [
    {
     "name": "stdout",
     "output_type": "stream",
     "text": [
      "14. Region with maximum discount: Central\n"
     ]
    }
   ],
   "source": [
    "# 14. Which region is having maximum discount?\n",
    "# Grouping data by 'Region', summing 'Discount' for each region, and identifying the one with the maximum value\n",
    "max_discount_region = data.groupby('Region')['Discount'].sum().idxmax()\n",
    "print(f\"14. Region with maximum discount: {max_discount_region}\")"
   ]
  },
  {
   "cell_type": "markdown",
   "metadata": {},
   "source": [
    "* **Explanation**: Groups data by `Region` and identifies the region with the highest total discount."
   ]
  },
  {
   "cell_type": "markdown",
   "metadata": {},
   "source": [
    "15. ***Category & Sub-Category with Maximum Discount***"
   ]
  },
  {
   "cell_type": "code",
   "execution_count": 17,
   "metadata": {},
   "outputs": [
    {
     "name": "stdout",
     "output_type": "stream",
     "text": [
      "15. Category and Sub-category with maximum discount: Category        Furniture\n",
      "Sub-Category       Tables\n",
      "Name: 5321, dtype: object\n"
     ]
    }
   ],
   "source": [
    "# 15. Which category and sub-category is having maximum discount?\n",
    "# Using idxmax() to find the row with the maximum discount, then extracting 'Category' and 'Sub-Category' from that row\n",
    "max_discount_category_subcategory = data.loc[data['Discount'].idxmax(), ['Category', 'Sub-Category']]\n",
    "print(f\"15. Category and Sub-category with maximum discount: {max_discount_category_subcategory}\")"
   ]
  },
  {
   "cell_type": "markdown",
   "metadata": {},
   "source": [
    "* **Explanation**: Finds the row with the maximum `Discount` and retrieves the corresponding `Category` and `Sub-Category`."
   ]
  },
  {
   "cell_type": "markdown",
   "metadata": {},
   "source": [
    "16. ***Mean Profit per Category***"
   ]
  },
  {
   "cell_type": "code",
   "execution_count": 18,
   "metadata": {},
   "outputs": [
    {
     "name": "stdout",
     "output_type": "stream",
     "text": [
      "16. Mean profit per category:\n",
      "Category\n",
      "Furniture          28.878567\n",
      "Office Supplies    16.578961\n",
      "Technology         65.454958\n",
      "Name: Profit, dtype: float64\n"
     ]
    }
   ],
   "source": [
    "# 16. Which category is having mean profit?\n",
    "# Grouping data by 'Category' and calculating the mean of 'Profit' for each category\n",
    "mean_profit_category = data.groupby('Category')['Profit'].mean()\n",
    "print(f\"16. Mean profit per category:\\n{mean_profit_category}\")"
   ]
  },
  {
   "cell_type": "markdown",
   "metadata": {},
   "source": [
    "* **Explanation**: Groups data by `Category` and calculates the average profit for each."
   ]
  },
  {
   "cell_type": "markdown",
   "metadata": {},
   "source": [
    "17. ***Distinct Category & Sub-Categories***"
   ]
  },
  {
   "cell_type": "code",
   "execution_count": 19,
   "metadata": {},
   "outputs": [
    {
     "name": "stdout",
     "output_type": "stream",
     "text": [
      "17. Number of distinct categories: 3, distinct sub-categories: 17\n"
     ]
    }
   ],
   "source": [
    "# 17. How many distinct categories and distinct sub-categories?\n",
    "# Counting the unique values in 'Category' and 'Sub-Category' columns\n",
    "distinct_categories_count = data['Category'].nunique()\n",
    "distinct_sub_categories_count = data['Sub-Category'].nunique()\n",
    "print(f\"17. Number of distinct categories: {distinct_categories_count}, distinct sub-categories: {distinct_sub_categories_count}\")"
   ]
  },
  {
   "cell_type": "markdown",
   "metadata": {},
   "source": [
    "* **Explanation**: Counts the number of unique values in both the `Category` and `Sub-Category` columns."
   ]
  },
  {
   "cell_type": "markdown",
   "metadata": {},
   "source": [
    "18. ***Distinct Markets***"
   ]
  },
  {
   "cell_type": "code",
   "execution_count": 20,
   "metadata": {},
   "outputs": [
    {
     "name": "stdout",
     "output_type": "stream",
     "text": [
      "18. Number of distinct markets: 7\n"
     ]
    }
   ],
   "source": [
    "# 18. How many distinct markets are there?\n",
    "# Counting the unique values in the 'Market' column to determine the number of distinct markets\n",
    "distinct_markets = data['Market'].nunique()\n",
    "print(f\"18. Number of distinct markets: {distinct_markets}\")"
   ]
  },
  {
   "cell_type": "markdown",
   "metadata": {},
   "source": [
    "* **Explanation**: Counts the number of unique `markets` in the Market column."
   ]
  },
  {
   "cell_type": "markdown",
   "metadata": {},
   "source": [
    "19. ***Total Customers***"
   ]
  },
  {
   "cell_type": "code",
   "execution_count": 21,
   "metadata": {},
   "outputs": [
    {
     "name": "stdout",
     "output_type": "stream",
     "text": [
      "19. Total number of customers: 1590\n"
     ]
    }
   ],
   "source": [
    "# 19. How many customers are there?\n",
    "# Counting the unique values in the 'Customer ID' column to determine the total number of customers\n",
    "total_customers = data['Customer ID'].nunique()\n",
    "print(f\"19. Total number of customers: {total_customers}\")"
   ]
  },
  {
   "cell_type": "markdown",
   "metadata": {},
   "source": [
    "* **Explanation**: Counts the total number of unique customers."
   ]
  },
  {
   "cell_type": "markdown",
   "metadata": {},
   "source": [
    "20. ***Total Shipment Cost by Market***"
   ]
  },
  {
   "cell_type": "code",
   "execution_count": 22,
   "metadata": {},
   "outputs": [
    {
     "name": "stdout",
     "output_type": "stream",
     "text": [
      "20. Total shipment cost by market:\n",
      "Market\n",
      "APAC      387165.1140\n",
      "Africa     88139.4700\n",
      "Canada      7405.6300\n",
      "EMEA       88375.7300\n",
      "EU        309422.3540\n",
      "LATAM     234133.6150\n",
      "US        238173.7904\n",
      "Name: Shipping Cost, dtype: float64\n"
     ]
    }
   ],
   "source": [
    "# 20. What is the total value of shipment cost based on market?\n",
    "# Grouping data by 'Market' and summing 'Shipping Cost' for each market\n",
    "total_shipment_cost_by_market = data.groupby('Market')['Shipping Cost'].sum()\n",
    "print(f\"20. Total shipment cost by market:\\n{total_shipment_cost_by_market}\")"
   ]
  },
  {
   "cell_type": "markdown",
   "metadata": {},
   "source": [
    "* **Explanation**: Groups data by `Market` and calculates the total shipment cost for each market."
   ]
  },
  {
   "cell_type": "code",
   "execution_count": 23,
   "metadata": {},
   "outputs": [
    {
     "name": "stdout",
     "output_type": "stream",
     "text": [
      "1. City with minimum profit: Lancaster\n",
      "2. State with maximum profit: England\n",
      "3. Segment with maximum sales: Consumer\n",
      "4. Most repetitive customer: PO-18850\n",
      "5. Country with minimum shipping cost: Eritrea\n",
      "6. Segment with maximum shipping cost: Consumer\n",
      "7. Number of distinct categories: 3\n",
      "8. Sub-categories per category:\n",
      "Category\n",
      "Furniture          4\n",
      "Office Supplies    9\n",
      "Technology         4\n",
      "Name: Sub-Category, dtype: int64\n",
      "9. Number of regions: 13\n",
      "10. Most profitable region: Central\n",
      "11. Region with maximum shipment cost: Central\n",
      "12. Market with minimum sales: Canada\n",
      "13. Market with maximum sales: APAC\n",
      "14. Region with maximum discount: Central\n",
      "15. Category and Sub-category with maximum discount: Category        Furniture\n",
      "Sub-Category       Tables\n",
      "Name: 5321, dtype: object\n",
      "16. Mean profit per category:\n",
      "Category\n",
      "Furniture          28.878567\n",
      "Office Supplies    16.578961\n",
      "Technology         65.454958\n",
      "Name: Profit, dtype: float64\n",
      "17. Number of distinct categories: 3, distinct sub-categories: 17\n",
      "18. Number of distinct markets: 7\n",
      "19. Total number of customers: 1590\n",
      "20. Total shipment cost by market:\n",
      "Market\n",
      "APAC      387165.1140\n",
      "Africa     88139.4700\n",
      "Canada      7405.6300\n",
      "EMEA       88375.7300\n",
      "EU        309422.3540\n",
      "LATAM     234133.6150\n",
      "US        238173.7904\n",
      "Name: Shipping Cost, dtype: float64\n"
     ]
    }
   ],
   "source": [
    "# Print results\n",
    "# Displaying the results for each query in a readable format\n",
    "print(f\"1. City with minimum profit: {min_profit_city}\")\n",
    "print(f\"2. State with maximum profit: {max_profit_state}\")\n",
    "print(f\"3. Segment with maximum sales: {max_sales_segment}\")\n",
    "print(f\"4. Most repetitive customer: {most_repetitive_customer}\")\n",
    "print(f\"5. Country with minimum shipping cost: {min_shipping_cost_country}\")\n",
    "print(f\"6. Segment with maximum shipping cost: {max_shipping_cost_segment}\")\n",
    "print(f\"7. Number of distinct categories: {distinct_categories}\")\n",
    "print(f\"8. Sub-categories per category:\\n{sub_categories_per_category}\")\n",
    "print(f\"9. Number of regions: {distinct_regions}\")\n",
    "print(f\"10. Most profitable region: {most_profitable_region}\")\n",
    "print(f\"11. Region with maximum shipment cost: {max_shipping_cost_region}\")\n",
    "print(f\"12. Market with minimum sales: {min_sales_market}\")\n",
    "print(f\"13. Market with maximum sales: {max_sales_market}\")\n",
    "print(f\"14. Region with maximum discount: {max_discount_region}\")\n",
    "print(f\"15. Category and Sub-category with maximum discount: {max_discount_category_subcategory}\")\n",
    "print(f\"16. Mean profit per category:\\n{mean_profit_category}\")\n",
    "print(f\"17. Number of distinct categories: {distinct_categories_count}, distinct sub-categories: {distinct_sub_categories_count}\")\n",
    "print(f\"18. Number of distinct markets: {distinct_markets}\")\n",
    "print(f\"19. Total number of customers: {total_customers}\")\n",
    "print(f\"20. Total shipment cost by market:\\n{total_shipment_cost_by_market}\")"
   ]
  }
 ],
 "metadata": {
  "kernelspec": {
   "display_name": "Python 3",
   "language": "python",
   "name": "python3"
  },
  "language_info": {
   "codemirror_mode": {
    "name": "ipython",
    "version": 3
   },
   "file_extension": ".py",
   "mimetype": "text/x-python",
   "name": "python",
   "nbconvert_exporter": "python",
   "pygments_lexer": "ipython3",
   "version": "3.11.5"
  }
 },
 "nbformat": 4,
 "nbformat_minor": 2
}
