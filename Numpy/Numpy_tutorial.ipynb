{
 "cells": [
  {
   "cell_type": "code",
   "execution_count": 1,
   "id": "b2afbd35-fdc7-4bd2-9dff-320d3ccd1cb9",
   "metadata": {},
   "outputs": [],
   "source": [
    "import numpy as np"
   ]
  },
  {
   "cell_type": "markdown",
   "id": "82ee7e18",
   "metadata": {},
   "source": [
    "* **Explanation:** This line imports the NumPy library and gives it the alias `np`. This is a convention used to make code shorter and easier to read when working with NumPy."
   ]
  },
  {
   "cell_type": "code",
   "execution_count": 2,
   "id": "bfe780fc-c265-476f-831c-44c2b19a7b86",
   "metadata": {},
   "outputs": [
    {
     "name": "stdout",
     "output_type": "stream",
     "text": [
      "[1 2 3 4 5]\n"
     ]
    }
   ],
   "source": [
    "arr = np.array([1, 2, 3, 4, 5])\n",
    "print(arr)  # [1 2 3 4 5]"
   ]
  },
  {
   "cell_type": "markdown",
   "id": "737119d0",
   "metadata": {},
   "source": [
    "* `np.array([1, 2, 3, 4, 5])`: Creates a NumPy array from the Python list `[1, 2, 3, 4, 5]`.\n",
    "* `print(arr)`: Outputs the array `[1 2 3 4 5]` to the console."
   ]
  },
  {
   "cell_type": "code",
   "execution_count": 3,
   "id": "5a943206-c1e1-462a-96d2-8d6765b70520",
   "metadata": {},
   "outputs": [
    {
     "name": "stdout",
     "output_type": "stream",
     "text": [
      "1\n",
      "5\n"
     ]
    }
   ],
   "source": [
    "arr = np.array([1, 2, 3, 4, 5])\n",
    "\n",
    "# Indexing\n",
    "print(arr[0])  # 1\n",
    "print(arr[-1])  # 5"
   ]
  },
  {
   "cell_type": "markdown",
   "id": "3f1fb87f",
   "metadata": {},
   "source": [
    "* `arr[0]`: Accesses the first element of the array (`1`).\n",
    "* `arr[-1]`: Accesses the last element of the array (`5`).\n",
    "* `print`: Displays these values."
   ]
  },
  {
   "cell_type": "code",
   "execution_count": 4,
   "id": "fd5fc960-8388-41b2-bfaa-b0e7610b4eca",
   "metadata": {},
   "outputs": [
    {
     "name": "stdout",
     "output_type": "stream",
     "text": [
      "[2 3]\n",
      "[1 2 3]\n",
      "[3 4 5]\n"
     ]
    }
   ],
   "source": [
    "print(arr[1:3])  # [2 3]\n",
    "print(arr[:3])  # [1 2 3]\n",
    "print(arr[2:])  # [3 4 5]"
   ]
  },
  {
   "cell_type": "markdown",
   "id": "4dc1c383",
   "metadata": {},
   "source": [
    "* Slicing:\n",
    "    * `arr[1:3]`: Extracts elements from index 1 to 2 (`[2, 3]`).\n",
    "    * `arr[:3]`: Extracts elements from the start up to index 2 (`[1, 2, 3]`).\n",
    "    * `arr[2:]`: Extracts elements from index 2 to the end (`[3, 4, 5]`).\n",
    "\n",
    "* `print`: Outputs these slices."
   ]
  },
  {
   "cell_type": "code",
   "execution_count": 5,
   "id": "4661e5ce-3755-42ad-896d-c318f7f5d1d2",
   "metadata": {},
   "outputs": [],
   "source": [
    "arr1 = np.array([1, 2, 3])\n",
    "arr2 = np.array([4, 5, 6])"
   ]
  },
  {
   "cell_type": "markdown",
   "id": "d526d3ad",
   "metadata": {},
   "source": [
    "* `arr1` **and** `arr2`: Create two separate arrays, `[1, 2, 3]` and `[4, 5, 6]`."
   ]
  },
  {
   "cell_type": "code",
   "execution_count": 6,
   "id": "a30c430e-0e45-4072-af81-b0c400d3a6e9",
   "metadata": {},
   "outputs": [
    {
     "name": "stdout",
     "output_type": "stream",
     "text": [
      "[5 7 9]\n",
      "[ 4 10 18]\n"
     ]
    }
   ],
   "source": [
    "print(arr1 + arr2)  # [5 7 9]\n",
    "print(arr1 * arr2)  # [ 4 10 18]"
   ]
  },
  {
   "cell_type": "markdown",
   "id": "63cd92a1",
   "metadata": {},
   "source": [
    "* **Element-wise Operations**:\n",
    "    * `arr1 + arr2`: Adds corresponding elements of `arr1` and `arr2` (`[5, 7, 9]`).\n",
    "    * `arr1 * arr2`: Multiplies corresponding elements of `arr1` and `arr2` (`[4, 10, 18]`)."
   ]
  },
  {
   "cell_type": "code",
   "execution_count": 7,
   "id": "509e03d3-2845-4b48-9938-0549548f690c",
   "metadata": {},
   "outputs": [
    {
     "name": "stdout",
     "output_type": "stream",
     "text": [
      "[5 7 9]\n",
      "[ 4 10 18]\n"
     ]
    }
   ],
   "source": [
    "print(np.add(arr1, arr2))  # [5 7 9]\n",
    "print(np.multiply(arr1, arr2))  # [ 4 10 18]"
   ]
  },
  {
   "cell_type": "markdown",
   "id": "613cacb7",
   "metadata": {},
   "source": [
    "* **NumPy Functions**:\n",
    "    * `np.add(arr1, arr2)`: Adds corresponding elements, same as `arr1 + arr2`.\n",
    "    * `np.multiply(arr1, arr2)`: Multiplies corresponding elements, same as `arr1 * arr2`."
   ]
  },
  {
   "cell_type": "code",
   "execution_count": 8,
   "id": "50230724-9a97-4a6e-89aa-5a3a53995b07",
   "metadata": {},
   "outputs": [
    {
     "name": "stdout",
     "output_type": "stream",
     "text": [
      "[[19 22]\n",
      " [43 50]]\n"
     ]
    }
   ],
   "source": [
    "arr1 = np.array([[1, 2], [3, 4]])\n",
    "arr2 = np.array([[5, 6], [7, 8]])\n",
    "print(np.dot(arr1, arr2))  # [[19 22], [43 50]]"
   ]
  },
  {
   "cell_type": "markdown",
   "id": "ddf83844",
   "metadata": {},
   "source": [
    "* **2D Arrays (`arr1` and `arr2`)**:\n",
    "    * `arr1`: `[[1, 2], [3, 4]]`.\n",
    "    * `arr2`: `[[5, 6], [7, 8]]`.\n",
    "  \n",
    "* `np.dot`: Computes the matrix product of `arr1` and `arr2`.\n",
    "    * Result: `[[19, 22], [43, 50]]`."
   ]
  },
  {
   "cell_type": "code",
   "execution_count": 9,
   "id": "517c1feb-7326-4b83-8dcc-fcef3d81b2a0",
   "metadata": {},
   "outputs": [
    {
     "name": "stdout",
     "output_type": "stream",
     "text": [
      "3.0\n",
      "3.0\n",
      "1.4142135623730951\n"
     ]
    }
   ],
   "source": [
    "arr = np.array([1, 2, 3, 4, 5])\n",
    "print(np.mean(arr))  # 3.0\n",
    "print(np.median(arr))  # 3.0\n",
    "print(np.std(arr))  # 1.4142135623730951"
   ]
  },
  {
   "cell_type": "markdown",
   "id": "e7795598",
   "metadata": {},
   "source": [
    "* **Statistical Functions**:\n",
    "    * `np.mean(arr)`: Calculates the mean (average) of the array (`3.0`).\n",
    "    * `np.median(arr)`: Finds the median (middle value) of the array (`3.0`).\n",
    "    * `np.std(arr)`: Computes the standard deviation of the array (`1.41`)."
   ]
  },
  {
   "cell_type": "code",
   "execution_count": 10,
   "id": "de2a2b71-0213-443f-aca9-4aa5c40fe190",
   "metadata": {},
   "outputs": [],
   "source": [
    "arr = np.array([1, 2, 3, 4, 5, 6])"
   ]
  },
  {
   "cell_type": "markdown",
   "id": "fd2fbea3",
   "metadata": {},
   "source": [
    "* `arr`: Creates an array `[1, 2, 3, 4, 5, 6]`."
   ]
  },
  {
   "cell_type": "code",
   "execution_count": 11,
   "id": "c016964a-8c72-4971-80a3-6d86db970d14",
   "metadata": {},
   "outputs": [
    {
     "name": "stdout",
     "output_type": "stream",
     "text": [
      "[[1 2 3]\n",
      " [4 5 6]]\n"
     ]
    }
   ],
   "source": [
    "print(np.reshape(arr, (2, 3))) "
   ]
  },
  {
   "cell_type": "markdown",
   "id": "fed9d282",
   "metadata": {},
   "source": [
    "* `np.reshape`: Reshapes `arr` into a 2x3 array:\n",
    "    * Output: `[[1, 2, 3], [4, 5, 6]]`."
   ]
  },
  {
   "cell_type": "code",
   "execution_count": 12,
   "id": "7d611877-ac54-40d2-9381-5800d3aca879",
   "metadata": {},
   "outputs": [],
   "source": [
    "arr = np.array([[1, 2], [3, 4]])"
   ]
  },
  {
   "cell_type": "markdown",
   "id": "4ea92147",
   "metadata": {},
   "source": [
    "* `arr`: Creates a 2x2 array `[[1, 2], [3, 4]]`."
   ]
  },
  {
   "cell_type": "code",
   "execution_count": 13,
   "id": "34472f38-11a5-45aa-881d-8d3700efaf84",
   "metadata": {},
   "outputs": [
    {
     "name": "stdout",
     "output_type": "stream",
     "text": [
      "[[1 3]\n",
      " [2 4]]\n"
     ]
    }
   ],
   "source": [
    "print(np.transpose(arr))"
   ]
  },
  {
   "cell_type": "markdown",
   "id": "bf0dc313",
   "metadata": {},
   "source": [
    "* `np.transpose`: Transposes `arr` (swaps rows and columns):\n",
    "    * Output: `[[1, 3], [2, 4]]`."
   ]
  },
  {
   "cell_type": "code",
   "execution_count": 14,
   "id": "12a6479e-b498-4f30-a8e4-6118c7006aec",
   "metadata": {},
   "outputs": [],
   "source": [
    "arr1 = np.array([1, 2, 3])\n",
    "arr2 = np.array([4, 5, 6])"
   ]
  },
  {
   "cell_type": "markdown",
   "id": "08caaa6b",
   "metadata": {},
   "source": [
    "* `arr1` **and** `arr2`: Re-initializes arrays `[1, 2, 3]` and `[4, 5, 6]`."
   ]
  },
  {
   "cell_type": "code",
   "execution_count": 15,
   "id": "c85d8c4c-6252-46db-a376-203e86bd5913",
   "metadata": {},
   "outputs": [
    {
     "name": "stdout",
     "output_type": "stream",
     "text": [
      "[1 2 3 4 5 6]\n"
     ]
    }
   ],
   "source": [
    "print(np.concatenate((arr1, arr2)))"
   ]
  },
  {
   "cell_type": "markdown",
   "id": "0fcedd46",
   "metadata": {},
   "source": [
    "* `np.concatenate`: Combines `arr1` and `arr2` into one array:\n",
    "    * Output: `[1, 2, 3, 4, 5, 6]`."
   ]
  },
  {
   "cell_type": "code",
   "execution_count": 16,
   "id": "cf3de1a7-773c-461f-aa31-a27c5691c04e",
   "metadata": {},
   "outputs": [
    {
     "name": "stdout",
     "output_type": "stream",
     "text": [
      "[array([1, 2, 3]), array([4, 5, 6])]\n"
     ]
    }
   ],
   "source": [
    "arr = np.array([1, 2, 3, 4, 5, 6])\n",
    "print(np.split(arr, 2)) "
   ]
  },
  {
   "cell_type": "markdown",
   "id": "cb5b2f82",
   "metadata": {},
   "source": [
    "* `np.split`: Splits `arr` into two equal parts:\n",
    "    * Output: `[array([1, 2, 3]), array([4, 5, 6])]`."
   ]
  },
  {
   "cell_type": "code",
   "execution_count": null,
   "id": "42ccc84b-7f09-4925-b3db-ee7e2e21d0da",
   "metadata": {},
   "outputs": [],
   "source": []
  }
 ],
 "metadata": {
  "kernelspec": {
   "display_name": "Python 3",
   "language": "python",
   "name": "python3"
  },
  "language_info": {
   "codemirror_mode": {
    "name": "ipython",
    "version": 3
   },
   "file_extension": ".py",
   "mimetype": "text/x-python",
   "name": "python",
   "nbconvert_exporter": "python",
   "pygments_lexer": "ipython3",
   "version": "3.11.5"
  }
 },
 "nbformat": 4,
 "nbformat_minor": 5
}
