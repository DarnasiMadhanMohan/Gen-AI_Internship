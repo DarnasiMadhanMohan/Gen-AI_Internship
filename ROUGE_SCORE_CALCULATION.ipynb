{
 "cells": [
  {
   "cell_type": "markdown",
   "id": "d0cc7c18-cf21-45ff-95f6-433757266e98",
   "metadata": {},
   "source": [
    "# LLM Response evaluation using ROUGE SCORE"
   ]
  },
  {
   "cell_type": "markdown",
   "id": "c20d4b09-9744-4ef0-ad88-825186816d65",
   "metadata": {},
   "source": [
    "# Precision: Fraction of matched n-grams in the generated text.\n",
    "# Recall: Fraction of matched n-grams in the reference text.\n",
    "# F1-Score: Harmonic mean of precision and recall."
   ]
  },
  {
   "cell_type": "code",
   "execution_count": 14,
   "id": "88992128-f683-4969-842a-e4f725efa426",
   "metadata": {},
   "outputs": [
    {
     "name": "stdout",
     "output_type": "stream",
     "text": [
      "rouge1: Precision: 0.8182, Recall: 0.6923, F1: 0.7500\n",
      "rouge2: Precision: 0.7000, Recall: 0.5833, F1: 0.6364\n",
      "rouge3: Precision: 0.5556, Recall: 0.4545, F1: 0.5000\n",
      "rougeL: Precision: 0.8182, Recall: 0.6923, F1: 0.7500\n"
     ]
    }
   ],
   "source": [
    "from rouge_score import rouge_scorer\n",
    "\n",
    "# Reference and generated summaries\n",
    "reference = \"The cat sat on the mat, watching tom and jerry cartoon in television\"\n",
    "generated = \"The cat is sitting on the mat, watching tom and jerry\"\n",
    "\n",
    "# Initialize the ROUGE scorer\n",
    "#scorer = rouge_scorer.RougeScorer(['rouge1', 'rouge2'], use_stemmer=True)\n",
    "#scorer = rouge_scorer.RougeScorer(['rouge1', 'rouge2','rouge3'], use_stemmer=True)\n",
    "scorer = rouge_scorer.RougeScorer(['rouge1', 'rouge2','rouge3', 'rougeL'],use_stemmer=True)\n",
    "\n",
    "# Compute ROUGE scores\n",
    "scores = scorer.score(reference, generated)\n",
    "\n",
    "# Print results\n",
    "for rouge_type, score in scores.items():\n",
    "    print(f\"{rouge_type}: Precision: {score.precision:.4f}, Recall: {score.recall:.4f}, F1: {score.fmeasure:.4f}\")\n"
   ]
  },
  {
   "cell_type": "code",
   "execution_count": 15,
   "id": "e63342e0-718f-4367-a8f2-00b742c15713",
   "metadata": {},
   "outputs": [
    {
     "name": "stdout",
     "output_type": "stream",
     "text": [
      "rouge1: Precision: 0.5714, Recall: 0.8000, F1: 0.6667\n",
      "rouge2: Precision: 0.1667, Recall: 0.2500, F1: 0.2000\n",
      "rouge3: Precision: 0.0000, Recall: 0.0000, F1: 0.0000\n",
      "rougeL: Precision: 0.2857, Recall: 0.4000, F1: 0.3333\n"
     ]
    }
   ],
   "source": [
    "reference1 = \"The dog chased the ball.\"\n",
    "generated1 = \"A ball was chased by the dog.\"\n",
    "\n",
    "scorer = rouge_scorer.RougeScorer(['rouge1','rouge2','rouge3','rougeL'])\n",
    "\n",
    "scores = scorer.score(reference1, generated1)\n",
    "\n",
    "for rouge_type, score in scores.items():\n",
    "    print(f\"{rouge_type}: Precision: {score.precision:.4f}, Recall: {score.recall:.4f}, F1: {score.fmeasure:.4f}\")"
   ]
  },
  {
   "cell_type": "code",
   "execution_count": 16,
   "id": "b0f8814c-3ecc-49e5-8de4-d70dac3234e2",
   "metadata": {},
   "outputs": [
    {
     "name": "stdout",
     "output_type": "stream",
     "text": [
      "rouge1: Precision: 0.5000, Recall: 0.7500, F1: 0.6000\n",
      "rouge2: Precision: 0.0000, Recall: 0.0000, F1: 0.0000\n",
      "rouge3: Precision: 0.0000, Recall: 0.0000, F1: 0.0000\n",
      "rougeL: Precision: 0.5000, Recall: 0.7500, F1: 0.6000\n"
     ]
    }
   ],
   "source": [
    "reference2 = \"She loves reading books.\"\n",
    "generated2 = \"She enjoys reading novels and books.\"\n",
    "\n",
    "scorer = rouge_scorer.RougeScorer(['rouge1','rouge2','rouge3','rougeL'])\n",
    "\n",
    "scores = scorer.score(reference2, generated2)\n",
    "\n",
    "for rouge_type, score in scores.items():\n",
    "    print(f\"{rouge_type}: Precision: {score.precision:.4f}, Recall: {score.recall:.4f}, F1: {score.fmeasure:.4f}\")"
   ]
  },
  {
   "cell_type": "code",
   "execution_count": 17,
   "id": "704e8f31",
   "metadata": {},
   "outputs": [
    {
     "name": "stdout",
     "output_type": "stream",
     "text": [
      "rouge1: Precision: 0.6667, Recall: 0.5714, F1: 0.6154\n",
      "rouge2: Precision: 0.3529, Recall: 0.3000, F1: 0.3243\n",
      "rouge3: Precision: 0.0000, Recall: 0.0000, F1: 0.0000\n",
      "rougeL: Precision: 0.2778, Recall: 0.2381, F1: 0.2564\n"
     ]
    }
   ],
   "source": [
    "reference3 = \"The quick brown fox jumped over the lazy dog that was sleeping peacefully under the shade of the big oak tree.\"\n",
    "generated3 = \"Under the large oak tree, a lazy dog was sleeping when a brown fox quickly jumped over it.\"\n",
    "\n",
    "scorer = rouge_scorer.RougeScorer(['rouge1','rouge2','rouge3','rougeL'])\n",
    "\n",
    "scores = scorer.score(reference3, generated3)\n",
    "\n",
    "for rouge_type, score in scores.items():\n",
    "    print(f\"{rouge_type}: Precision: {score.precision:.4f}, Recall: {score.recall:.4f}, F1: {score.fmeasure:.4f}\")"
   ]
  },
  {
   "cell_type": "code",
   "execution_count": 18,
   "id": "52b47723",
   "metadata": {},
   "outputs": [
    {
     "name": "stdout",
     "output_type": "stream",
     "text": [
      "rouge1: Precision: 0.6667, Recall: 0.5714, F1: 0.6154\n",
      "rouge2: Precision: 0.3529, Recall: 0.3000, F1: 0.3243\n",
      "rouge3: Precision: 0.0000, Recall: 0.0000, F1: 0.0000\n",
      "rougeL: Precision: 0.2778, Recall: 0.2381, F1: 0.2564\n"
     ]
    }
   ],
   "source": [
    "reference4 = \"The quick brown fox jumped over the lazy dog that was sleeping peacefully under the shade of the big oak tree.\"\n",
    "generated4 = \"Under the large oak tree, a lazy dog was sleeping when a brown fox quickly jumped over it.\"\n",
    "\n",
    "scorer = rouge_scorer.RougeScorer(['rouge1','rouge2','rouge3','rougeL'])\n",
    "\n",
    "scores = scorer.score(reference4, generated4)\n",
    "\n",
    "for rouge_type, score in scores.items():\n",
    "    print(f\"{rouge_type}: Precision: {score.precision:.4f}, Recall: {score.recall:.4f}, F1: {score.fmeasure:.4f}\")"
   ]
  },
  {
   "cell_type": "markdown",
   "id": "5cdca674",
   "metadata": {},
   "source": [
    "**Explanation**\n",
    "\n",
    "* Reference 1,2,3,4 & Generated 1,2,3,4 sentences are taken form the AI generated text.\n",
    "* For the output of the Reference 1,2,3,4 & Generated 1,2,3,4 -> Paraphrasing and Rewording does't change the ROUGE-SCORE."
   ]
  },
  {
   "cell_type": "code",
   "execution_count": 19,
   "id": "cc4c881d",
   "metadata": {},
   "outputs": [
    {
     "name": "stdout",
     "output_type": "stream",
     "text": [
      "rouge1: Precision: 0.3600, Recall: 1.0000, F1: 0.5294\n",
      "rouge2: Precision: 0.2500, Recall: 0.7500, F1: 0.3750\n",
      "rouge3: Precision: 0.1739, Recall: 0.5714, F1: 0.2667\n",
      "rougeL: Precision: 0.3600, Recall: 1.0000, F1: 0.5294\n"
     ]
    }
   ],
   "source": [
    "reference5 = \"Summarization is cool, I love Machine Learning, Good night.\"\n",
    "generated5 = \"Summarization is beneficial and cool, Summarization saves time, People are getting used to Machine Learning, I think i love Machine Learning, Good night everyone!, Night!.\"\n",
    "\n",
    "scorer = rouge_scorer.RougeScorer(['rouge1','rouge2','rouge3','rougeL'])\n",
    "\n",
    "scores = scorer.score(reference5, generated5)\n",
    "\n",
    "for rouge_type, score in scores.items():\n",
    "    print(f\"{rouge_type}: Precision: {score.precision:.4f}, Recall: {score.recall:.4f}, F1: {score.fmeasure:.4f}\")"
   ]
  },
  {
   "cell_type": "code",
   "execution_count": 20,
   "id": "1f111ad5",
   "metadata": {},
   "outputs": [
    {
     "name": "stdout",
     "output_type": "stream",
     "text": [
      "rouge1: Precision: 0.3600, Recall: 1.0000, F1: 0.5294\n",
      "rouge2: Precision: 0.2500, Recall: 0.7500, F1: 0.3750\n",
      "rouge3: Precision: 0.1739, Recall: 0.5714, F1: 0.2667\n",
      "rougeL: Precision: 0.3600, Recall: 1.0000, F1: 0.5294\n"
     ]
    }
   ],
   "source": [
    "reference6 = \"Cybercrime is one of the most known crime and taking money of most the people which is leading to loss of income\"\n",
    "generated6 = \"Cybercrime is one of the most prevalent crimes, affecting many individuals and leading to financial losses\"\n",
    "\n",
    "scorer = rouge_scorer.RougeScorer(['rouge1','rouge2','rouge3','rougeL'])\n",
    "\n",
    "scores = scorer.score(reference5, generated5)\n",
    "\n",
    "for rouge_type, score in scores.items():\n",
    "    print(f\"{rouge_type}: Precision: {score.precision:.4f}, Recall: {score.recall:.4f}, F1: {score.fmeasure:.4f}\")"
   ]
  },
  {
   "cell_type": "markdown",
   "id": "f1e8bdae",
   "metadata": {},
   "source": [
    "* In the above example Semantic similarity are high, but direct matches in sequence are low."
   ]
  }
 ],
 "metadata": {
  "kernelspec": {
   "display_name": "Python 3",
   "language": "python",
   "name": "python3"
  },
  "language_info": {
   "codemirror_mode": {
    "name": "ipython",
    "version": 3
   },
   "file_extension": ".py",
   "mimetype": "text/x-python",
   "name": "python",
   "nbconvert_exporter": "python",
   "pygments_lexer": "ipython3",
   "version": "3.11.5"
  }
 },
 "nbformat": 4,
 "nbformat_minor": 5
}
